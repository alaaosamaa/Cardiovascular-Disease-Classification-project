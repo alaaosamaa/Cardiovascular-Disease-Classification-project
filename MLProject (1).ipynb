{
  "cells": [
    {
      "cell_type": "markdown",
      "metadata": {
        "id": "QijebNl6e7mt"
      },
      "source": [
        "# Cardiovascular Disease Classification Project\n",
        "\n",
        "\n"
      ]
    },
    {
      "cell_type": "markdown",
      "metadata": {
        "id": "-6SgrY06jrna"
      },
      "source": [
        "We have used Cardiovascular Disease dataset (https://www.kaggle.com/sulianova/cardiovascular-disease-dataset). Based on some health information of an individual our model will predict whether he has any cardiovascular disease or not."
      ]
    },
    {
      "cell_type": "markdown",
      "metadata": {
        "id": "X7n3JzXMnzyO"
      },
      "source": [
        "##Data description\n",
        "There are 3 types of input features:\n",
        "\n",
        "*   Objective: factual information;\n",
        "*   Examination: results of medical examination;\n",
        "*   Subjective: information given by the patient.\n",
        "\n",
        "Features:\n",
        "*   Age | Objective Feature | age | int (days)\n",
        "*   Height | Objective Feature | height | int (cm) |\n",
        "*   Weight | Objective Feature | weight | float (kg) |\n",
        "*   Gender | Objective Feature | gender | categorical code |\n",
        "*   Systolic blood pressure | Examination Feature | ap_hi | int |\n",
        "*   Diastolic blood pressure | Examination Feature | ap_lo | int |\n",
        "*   Cholesterol | Examination Feature | cholesterol | 1: normal, 2: above normal, 3: well above normal |\n",
        "*   Glucose | Examination Feature | gluc | 1: normal, 2: above normal, 3: well above normal |\n",
        "*   Smoking | Subjective Feature | smoke | binary |\n",
        "*   Alcohol intake | Subjective Feature | alco | binary |\n",
        "*   Physical activity | Subjective Feature | active | binary |\n",
        "*   Presence or absence of cardiovascular disease | Target Variable | cardio | binary |"
      ]
    },
    {
      "cell_type": "markdown",
      "metadata": {
        "id": "QEF1pLxnxeBG"
      },
      "source": [
        "## Imports"
      ]
    },
    {
      "cell_type": "code",
      "execution_count": 31,
      "metadata": {
        "colab": {
          "base_uri": "https://localhost:8080/"
        },
        "id": "kXq_MonCwzYv",
        "outputId": "cd209e97-b561-4231-ff60-5ade248eb3f6"
      },
      "outputs": [
        {
          "data": {
            "text/html": [
              "        <script type=\"text/javascript\">\n",
              "        window.PlotlyConfig = {MathJaxConfig: 'local'};\n",
              "        if (window.MathJax) {MathJax.Hub.Config({SVG: {font: \"STIX-Web\"}});}\n",
              "        if (typeof require !== 'undefined') {\n",
              "        require.undef(\"plotly\");\n",
              "        requirejs.config({\n",
              "            paths: {\n",
              "                'plotly': ['https://cdn.plot.ly/plotly-2.8.3.min']\n",
              "            }\n",
              "        });\n",
              "        require(['plotly'], function(Plotly) {\n",
              "            window._Plotly = Plotly;\n",
              "        });\n",
              "        }\n",
              "        </script>\n",
              "        "
            ]
          },
          "metadata": {},
          "output_type": "display_data"
        }
      ],
      "source": [
        "import numpy as np\n",
        "import pandas as pd\n",
        "import matplotlib.pyplot as plt\n",
        "import seaborn as sns\n",
        "from sklearn.preprocessing import MinMaxScaler, StandardScaler, Normalizer\n",
        "from sklearn.model_selection import train_test_split, GridSearchCV\n",
        "from sklearn.neighbors import KNeighborsClassifier\n",
        "from sklearn.metrics import accuracy_score, f1_score\n",
        "from sklearn.linear_model import LogisticRegression\n",
        "from sklearn.ensemble import RandomForestClassifier\n",
        "from sklearn.tree import DecisionTreeClassifier\n",
        "from sklearn.svm import LinearSVC\n",
        "import cufflinks as cf\n",
        "from plotly.offline import download_plotlyjs,init_notebook_mode,plot,iplot\n",
        "%matplotlib inline\n",
        "from sklearn.naive_bayes import GaussianNB\n",
        "from sklearn.decomposition import PCA\n",
        "# Suppressing Warnings\n",
        "import warnings\n",
        "warnings.filterwarnings('ignore')\n",
        "init_notebook_mode(connected=True)\n"
      ]
    },
    {
      "cell_type": "markdown",
      "metadata": {
        "id": "OJH_GyQDZTDh"
      },
      "source": [
        "## Dataset reading"
      ]
    },
    {
      "cell_type": "code",
      "execution_count": 72,
      "metadata": {
        "colab": {
          "base_uri": "https://localhost:8080/"
        },
        "id": "QbmCElvYxi5J",
        "outputId": "77287868-7836-407f-edf6-2f616214fb65"
      },
      "outputs": [
        {
          "data": {
            "text/html": [
              "<div>\n",
              "<style scoped>\n",
              "    .dataframe tbody tr th:only-of-type {\n",
              "        vertical-align: middle;\n",
              "    }\n",
              "\n",
              "    .dataframe tbody tr th {\n",
              "        vertical-align: top;\n",
              "    }\n",
              "\n",
              "    .dataframe thead th {\n",
              "        text-align: right;\n",
              "    }\n",
              "</style>\n",
              "<table border=\"1\" class=\"dataframe\">\n",
              "  <thead>\n",
              "    <tr style=\"text-align: right;\">\n",
              "      <th></th>\n",
              "      <th>id</th>\n",
              "      <th>age</th>\n",
              "      <th>gender</th>\n",
              "      <th>height</th>\n",
              "      <th>weight</th>\n",
              "      <th>ap_hi</th>\n",
              "      <th>ap_lo</th>\n",
              "      <th>cholesterol</th>\n",
              "      <th>gluc</th>\n",
              "      <th>smoke</th>\n",
              "      <th>alco</th>\n",
              "      <th>active</th>\n",
              "      <th>cardio</th>\n",
              "    </tr>\n",
              "  </thead>\n",
              "  <tbody>\n",
              "    <tr>\n",
              "      <th>0</th>\n",
              "      <td>0</td>\n",
              "      <td>18393</td>\n",
              "      <td>2</td>\n",
              "      <td>168</td>\n",
              "      <td>62.0</td>\n",
              "      <td>110</td>\n",
              "      <td>80</td>\n",
              "      <td>1</td>\n",
              "      <td>1</td>\n",
              "      <td>0</td>\n",
              "      <td>0</td>\n",
              "      <td>1</td>\n",
              "      <td>0</td>\n",
              "    </tr>\n",
              "    <tr>\n",
              "      <th>1</th>\n",
              "      <td>1</td>\n",
              "      <td>20228</td>\n",
              "      <td>1</td>\n",
              "      <td>156</td>\n",
              "      <td>85.0</td>\n",
              "      <td>140</td>\n",
              "      <td>90</td>\n",
              "      <td>3</td>\n",
              "      <td>1</td>\n",
              "      <td>0</td>\n",
              "      <td>0</td>\n",
              "      <td>1</td>\n",
              "      <td>1</td>\n",
              "    </tr>\n",
              "    <tr>\n",
              "      <th>2</th>\n",
              "      <td>2</td>\n",
              "      <td>18857</td>\n",
              "      <td>1</td>\n",
              "      <td>165</td>\n",
              "      <td>64.0</td>\n",
              "      <td>130</td>\n",
              "      <td>70</td>\n",
              "      <td>3</td>\n",
              "      <td>1</td>\n",
              "      <td>0</td>\n",
              "      <td>0</td>\n",
              "      <td>0</td>\n",
              "      <td>1</td>\n",
              "    </tr>\n",
              "    <tr>\n",
              "      <th>3</th>\n",
              "      <td>3</td>\n",
              "      <td>17623</td>\n",
              "      <td>2</td>\n",
              "      <td>169</td>\n",
              "      <td>82.0</td>\n",
              "      <td>150</td>\n",
              "      <td>100</td>\n",
              "      <td>1</td>\n",
              "      <td>1</td>\n",
              "      <td>0</td>\n",
              "      <td>0</td>\n",
              "      <td>1</td>\n",
              "      <td>1</td>\n",
              "    </tr>\n",
              "    <tr>\n",
              "      <th>4</th>\n",
              "      <td>4</td>\n",
              "      <td>17474</td>\n",
              "      <td>1</td>\n",
              "      <td>156</td>\n",
              "      <td>56.0</td>\n",
              "      <td>100</td>\n",
              "      <td>60</td>\n",
              "      <td>1</td>\n",
              "      <td>1</td>\n",
              "      <td>0</td>\n",
              "      <td>0</td>\n",
              "      <td>0</td>\n",
              "      <td>0</td>\n",
              "    </tr>\n",
              "  </tbody>\n",
              "</table>\n",
              "</div>"
            ],
            "text/plain": [
              "   id    age  gender  height  weight  ap_hi  ap_lo  cholesterol  gluc  smoke  \\\n",
              "0   0  18393       2     168    62.0    110     80            1     1      0   \n",
              "1   1  20228       1     156    85.0    140     90            3     1      0   \n",
              "2   2  18857       1     165    64.0    130     70            3     1      0   \n",
              "3   3  17623       2     169    82.0    150    100            1     1      0   \n",
              "4   4  17474       1     156    56.0    100     60            1     1      0   \n",
              "\n",
              "   alco  active  cardio  \n",
              "0     0       1       0  \n",
              "1     0       1       1  \n",
              "2     0       0       1  \n",
              "3     0       1       1  \n",
              "4     0       0       0  "
            ]
          },
          "execution_count": 72,
          "metadata": {},
          "output_type": "execute_result"
        }
      ],
      "source": [
        "# Load Dataset\n",
        "df = pd.read_csv(\"cardio_train.csv\", sep=';')\n",
        "\n",
        "df.head()"
      ]
    },
    {
      "cell_type": "code",
      "execution_count": 73,
      "metadata": {
        "colab": {
          "base_uri": "https://localhost:8080/"
        },
        "id": "4ulTXnjQLIj2",
        "outputId": "ee5898c0-3dd8-4553-c0a1-c7d762d83f5d"
      },
      "outputs": [
        {
          "data": {
            "text/html": [
              "<div>\n",
              "<style scoped>\n",
              "    .dataframe tbody tr th:only-of-type {\n",
              "        vertical-align: middle;\n",
              "    }\n",
              "\n",
              "    .dataframe tbody tr th {\n",
              "        vertical-align: top;\n",
              "    }\n",
              "\n",
              "    .dataframe thead th {\n",
              "        text-align: right;\n",
              "    }\n",
              "</style>\n",
              "<table border=\"1\" class=\"dataframe\">\n",
              "  <thead>\n",
              "    <tr style=\"text-align: right;\">\n",
              "      <th></th>\n",
              "      <th>count</th>\n",
              "      <th>mean</th>\n",
              "      <th>std</th>\n",
              "      <th>min</th>\n",
              "      <th>25%</th>\n",
              "      <th>50%</th>\n",
              "      <th>75%</th>\n",
              "      <th>max</th>\n",
              "    </tr>\n",
              "  </thead>\n",
              "  <tbody>\n",
              "    <tr>\n",
              "      <th>id</th>\n",
              "      <td>70000.0</td>\n",
              "      <td>49972.419900</td>\n",
              "      <td>28851.302323</td>\n",
              "      <td>0.0</td>\n",
              "      <td>25006.75</td>\n",
              "      <td>50001.5</td>\n",
              "      <td>74889.25</td>\n",
              "      <td>99999.0</td>\n",
              "    </tr>\n",
              "    <tr>\n",
              "      <th>age</th>\n",
              "      <td>70000.0</td>\n",
              "      <td>19468.865814</td>\n",
              "      <td>2467.251667</td>\n",
              "      <td>10798.0</td>\n",
              "      <td>17664.00</td>\n",
              "      <td>19703.0</td>\n",
              "      <td>21327.00</td>\n",
              "      <td>23713.0</td>\n",
              "    </tr>\n",
              "    <tr>\n",
              "      <th>gender</th>\n",
              "      <td>70000.0</td>\n",
              "      <td>1.349571</td>\n",
              "      <td>0.476838</td>\n",
              "      <td>1.0</td>\n",
              "      <td>1.00</td>\n",
              "      <td>1.0</td>\n",
              "      <td>2.00</td>\n",
              "      <td>2.0</td>\n",
              "    </tr>\n",
              "    <tr>\n",
              "      <th>height</th>\n",
              "      <td>70000.0</td>\n",
              "      <td>164.359229</td>\n",
              "      <td>8.210126</td>\n",
              "      <td>55.0</td>\n",
              "      <td>159.00</td>\n",
              "      <td>165.0</td>\n",
              "      <td>170.00</td>\n",
              "      <td>250.0</td>\n",
              "    </tr>\n",
              "    <tr>\n",
              "      <th>weight</th>\n",
              "      <td>70000.0</td>\n",
              "      <td>74.205690</td>\n",
              "      <td>14.395757</td>\n",
              "      <td>10.0</td>\n",
              "      <td>65.00</td>\n",
              "      <td>72.0</td>\n",
              "      <td>82.00</td>\n",
              "      <td>200.0</td>\n",
              "    </tr>\n",
              "    <tr>\n",
              "      <th>ap_hi</th>\n",
              "      <td>70000.0</td>\n",
              "      <td>128.817286</td>\n",
              "      <td>154.011419</td>\n",
              "      <td>-150.0</td>\n",
              "      <td>120.00</td>\n",
              "      <td>120.0</td>\n",
              "      <td>140.00</td>\n",
              "      <td>16020.0</td>\n",
              "    </tr>\n",
              "    <tr>\n",
              "      <th>ap_lo</th>\n",
              "      <td>70000.0</td>\n",
              "      <td>96.630414</td>\n",
              "      <td>188.472530</td>\n",
              "      <td>-70.0</td>\n",
              "      <td>80.00</td>\n",
              "      <td>80.0</td>\n",
              "      <td>90.00</td>\n",
              "      <td>11000.0</td>\n",
              "    </tr>\n",
              "    <tr>\n",
              "      <th>cholesterol</th>\n",
              "      <td>70000.0</td>\n",
              "      <td>1.366871</td>\n",
              "      <td>0.680250</td>\n",
              "      <td>1.0</td>\n",
              "      <td>1.00</td>\n",
              "      <td>1.0</td>\n",
              "      <td>2.00</td>\n",
              "      <td>3.0</td>\n",
              "    </tr>\n",
              "    <tr>\n",
              "      <th>gluc</th>\n",
              "      <td>70000.0</td>\n",
              "      <td>1.226457</td>\n",
              "      <td>0.572270</td>\n",
              "      <td>1.0</td>\n",
              "      <td>1.00</td>\n",
              "      <td>1.0</td>\n",
              "      <td>1.00</td>\n",
              "      <td>3.0</td>\n",
              "    </tr>\n",
              "    <tr>\n",
              "      <th>smoke</th>\n",
              "      <td>70000.0</td>\n",
              "      <td>0.088129</td>\n",
              "      <td>0.283484</td>\n",
              "      <td>0.0</td>\n",
              "      <td>0.00</td>\n",
              "      <td>0.0</td>\n",
              "      <td>0.00</td>\n",
              "      <td>1.0</td>\n",
              "    </tr>\n",
              "    <tr>\n",
              "      <th>alco</th>\n",
              "      <td>70000.0</td>\n",
              "      <td>0.053771</td>\n",
              "      <td>0.225568</td>\n",
              "      <td>0.0</td>\n",
              "      <td>0.00</td>\n",
              "      <td>0.0</td>\n",
              "      <td>0.00</td>\n",
              "      <td>1.0</td>\n",
              "    </tr>\n",
              "    <tr>\n",
              "      <th>active</th>\n",
              "      <td>70000.0</td>\n",
              "      <td>0.803729</td>\n",
              "      <td>0.397179</td>\n",
              "      <td>0.0</td>\n",
              "      <td>1.00</td>\n",
              "      <td>1.0</td>\n",
              "      <td>1.00</td>\n",
              "      <td>1.0</td>\n",
              "    </tr>\n",
              "    <tr>\n",
              "      <th>cardio</th>\n",
              "      <td>70000.0</td>\n",
              "      <td>0.499700</td>\n",
              "      <td>0.500003</td>\n",
              "      <td>0.0</td>\n",
              "      <td>0.00</td>\n",
              "      <td>0.0</td>\n",
              "      <td>1.00</td>\n",
              "      <td>1.0</td>\n",
              "    </tr>\n",
              "  </tbody>\n",
              "</table>\n",
              "</div>"
            ],
            "text/plain": [
              "               count          mean           std      min       25%      50%  \\\n",
              "id           70000.0  49972.419900  28851.302323      0.0  25006.75  50001.5   \n",
              "age          70000.0  19468.865814   2467.251667  10798.0  17664.00  19703.0   \n",
              "gender       70000.0      1.349571      0.476838      1.0      1.00      1.0   \n",
              "height       70000.0    164.359229      8.210126     55.0    159.00    165.0   \n",
              "weight       70000.0     74.205690     14.395757     10.0     65.00     72.0   \n",
              "ap_hi        70000.0    128.817286    154.011419   -150.0    120.00    120.0   \n",
              "ap_lo        70000.0     96.630414    188.472530    -70.0     80.00     80.0   \n",
              "cholesterol  70000.0      1.366871      0.680250      1.0      1.00      1.0   \n",
              "gluc         70000.0      1.226457      0.572270      1.0      1.00      1.0   \n",
              "smoke        70000.0      0.088129      0.283484      0.0      0.00      0.0   \n",
              "alco         70000.0      0.053771      0.225568      0.0      0.00      0.0   \n",
              "active       70000.0      0.803729      0.397179      0.0      1.00      1.0   \n",
              "cardio       70000.0      0.499700      0.500003      0.0      0.00      0.0   \n",
              "\n",
              "                  75%      max  \n",
              "id           74889.25  99999.0  \n",
              "age          21327.00  23713.0  \n",
              "gender           2.00      2.0  \n",
              "height         170.00    250.0  \n",
              "weight          82.00    200.0  \n",
              "ap_hi          140.00  16020.0  \n",
              "ap_lo           90.00  11000.0  \n",
              "cholesterol      2.00      3.0  \n",
              "gluc             1.00      3.0  \n",
              "smoke            0.00      1.0  \n",
              "alco             0.00      1.0  \n",
              "active           1.00      1.0  \n",
              "cardio           1.00      1.0  "
            ]
          },
          "execution_count": 73,
          "metadata": {},
          "output_type": "execute_result"
        }
      ],
      "source": [
        "df.describe().transpose()"
      ]
    },
    {
      "cell_type": "markdown",
      "metadata": {
        "id": "K7wG_M2awCqq"
      },
      "source": [
        "##Exploratory Data Analysis"
      ]
    },
    {
      "cell_type": "code",
      "execution_count": 74,
      "metadata": {
        "colab": {
          "base_uri": "https://localhost:8080/"
        },
        "id": "JHXFyQ-rZ59P",
        "outputId": "18b10c8f-9b33-4dcf-f347-f8e3efc095e1"
      },
      "outputs": [
        {
          "name": "stdout",
          "output_type": "stream",
          "text": [
            "0 rows are same\n",
            "Missing values are present: False\n",
            "(70000, 13)\n"
          ]
        }
      ],
      "source": [
        "# Check for duplicates \n",
        "print(\"{} rows are same\".format(df.duplicated().sum()))\n",
        "# Check for Missing values \n",
        "print(f\"Missing values are present: {df.isnull().sum().any()}\")\n",
        "print(df.shape)"
      ]
    },
    {
      "cell_type": "code",
      "execution_count": 75,
      "metadata": {
        "colab": {
          "base_uri": "https://localhost:8080/",
          "height": 283
        },
        "id": "EQEKhNfewGU3",
        "outputId": "0e6ef292-dd9a-49cf-8df1-a41d006a7b01"
      },
      "outputs": [
        {
          "data": {
            "image/png": "[encoded data removed]",
            "text/plain": [
              "<Figure size 432x288 with 1 Axes>"
            ]
          },
          "metadata": {},
          "output_type": "display_data"
        }
      ],
      "source": [
        "sns.set_style('darkgrid')\n",
        "sns.countplot(df.cardio,palette='magma')\n",
        "plt.xlabel('Presence of cardiovascular disease',fontdict={'fontsize': 15,'color':'black'},labelpad=3);"
      ]
    },
    {
      "cell_type": "markdown",
      "metadata": {
        "id": "bduKrwByytQA"
      },
      "source": [
        "**Data is almost balanced**\n",
        "\n",
        "---\n",
        "\n"
      ]
    },
    {
      "cell_type": "code",
      "execution_count": 76,
      "metadata": {
        "colab": {
          "base_uri": "https://localhost:8080/",
          "height": 295
        },
        "id": "yxXzOm4DsV3E",
        "outputId": "e54a4ee8-c31b-4dae-e17b-a58fbd123115"
      },
      "outputs": [
        {
          "data": {
            "image/png": "[encoded data removed]",
            "text/plain": [
              "<Figure size 432x288 with 1 Axes>"
            ]
          },
          "metadata": {},
          "output_type": "display_data"
        }
      ],
      "source": [
        "# Box plot for height\n",
        "sns.set_style('dark')\n",
        "sns.boxplot(df.height,palette='pink')\n",
        "plt.title('Distribution of height');"
      ]
    },
    {
      "cell_type": "markdown",
      "metadata": {
        "id": "JdPFwBhEuJJl"
      },
      "source": [
        "**250 cm height is extremely rare cases**\n",
        "\n",
        "---\n",
        "\n"
      ]
    },
    {
      "cell_type": "code",
      "execution_count": 77,
      "metadata": {
        "colab": {
          "base_uri": "https://localhost:8080/",
          "height": 295
        },
        "id": "UhGQs9ZjsWqL",
        "outputId": "3aa97d08-6fb1-41a3-8e70-caa233b3e6ec"
      },
      "outputs": [
        {
          "data": {
            "image/png": "[encoded data removed]",
            "text/plain": [
              "<Figure size 432x288 with 1 Axes>"
            ]
          },
          "metadata": {},
          "output_type": "display_data"
        }
      ],
      "source": [
        "# Box plot for weight \n",
        "sns.set_style('white')\n",
        "sns.boxplot(df.weight,palette='terrain')\n",
        "plt.title('Distribution of weight');"
      ]
    },
    {
      "cell_type": "markdown",
      "metadata": {
        "id": "psaL8dOyuXUg"
      },
      "source": [
        "**200 kg weight is extremely rare cases**\n",
        "\n",
        "---\n",
        "\n"
      ]
    },
    {
      "cell_type": "code",
      "execution_count": 78,
      "metadata": {
        "colab": {
          "base_uri": "https://localhost:8080/",
          "height": 596
        },
        "id": "vI0fz95gy3UD",
        "outputId": "47496d4e-172c-433d-afd4-9bf401c518eb"
      },
      "outputs": [
        {
          "data": {
            "image/png": "[encoded data removed]",
            "text/plain": [
              "<Figure size 1080x720 with 2 Axes>"
            ]
          },
          "metadata": {},
          "output_type": "display_data"
        }
      ],
      "source": [
        "# Make a correlation matrix and plot it using seaborn\n",
        "corr_matrix = df.corr()\n",
        "fig, ax = plt.subplots(figsize = (15,10))\n",
        "ax = sns.heatmap(\n",
        "    corr_matrix, \n",
        "    annot = True, \n",
        "    linewidths = 0.5,\n",
        "    fmt = '0.2f', \n",
        "    cmap = 'GnBu'\n",
        ")"
      ]
    },
    {
      "cell_type": "code",
      "execution_count": 79,
      "metadata": {
        "colab": {
          "base_uri": "https://localhost:8080/",
          "height": 560
        },
        "id": "CbR4US5y0XS3",
        "outputId": "8a3e99d9-779d-4417-e7d4-a0c0105c6e0f"
      },
      "outputs": [
        {
          "data": {
            "text/html": [
              "        <script type=\"text/javascript\">\n",
              "        window.PlotlyConfig = {MathJaxConfig: 'local'};\n",
              "        if (window.MathJax) {MathJax.Hub.Config({SVG: {font: \"STIX-Web\"}});}\n",
              "        if (typeof require !== 'undefined') {\n",
              "        require.undef(\"plotly\");\n",
              "        requirejs.config({\n",
              "            paths: {\n",
              "                'plotly': ['https://cdn.plot.ly/plotly-2.8.3.min']\n",
              "            }\n",
              "        });\n",
              "        require(['plotly'], function(Plotly) {\n",
              "            window._Plotly = Plotly;\n",
              "        });\n",
              "        }\n",
              "        </script>\n",
              "        "
            ]
          },
          "metadata": {},
          "output_type": "display_data"
        },
        {
          "data": {
            "text/html": [
              "        <script type=\"text/javascript\">\n",
              "        window.PlotlyConfig = {MathJaxConfig: 'local'};\n",
              "        if (window.MathJax) {MathJax.Hub.Config({SVG: {font: \"STIX-Web\"}});}\n",
              "        if (typeof require !== 'undefined') {\n",
              "        require.undef(\"plotly\");\n",
              "        requirejs.config({\n",
              "            paths: {\n",
              "                'plotly': ['https://cdn.plot.ly/plotly-2.8.3.min']\n",
              "            }\n",
              "        });\n",
              "        require(['plotly'], function(Plotly) {\n",
              "            window._Plotly = Plotly;\n",
              "        });\n",
              "        }\n",
              "        </script>\n",
              "        "
            ]
          },
          "metadata": {},
          "output_type": "display_data"
        },
        {
          "name": "stdout",
          "output_type": "stream",
          "text": [
            "Correlation of features with target variable\n"
          ]
        },
        {
          "data": {
            "application/vnd.plotly.v1+json": {
              "config": {
                "linkText": "Export to plot.ly",
                "plotlyServerURL": "https://plot.ly",
                "showLink": true
              },
              "data": [
                {
                  "marker": {
                    "color": "rgba(255, 153, 51, 0.6)",
                    "line": {
                      "color": "rgba(255, 153, 51, 1.0)",
                      "width": 1
                    }
                  },
                  "name": "cardio",
                  "orientation": "h",
                  "text": "",
                  "type": "bar",
                  "x": [
                    -0.03565324811519037,
                    -0.015485935661367784,
                    -0.01082105833100495,
                    -0.007330231723202663,
                    0.003799389187199488,
                    0.008109491913122303,
                    0.05447505392686579,
                    0.06571869614919028,
                    0.08930688732430264,
                    0.18165956179862647,
                    0.2211472739123984,
                    0.23815922744230844
                  ],
                  "y": [
                    "active",
                    "smoke",
                    "height",
                    "alco",
                    "id",
                    "gender",
                    "ap_hi",
                    "ap_lo",
                    "gluc",
                    "weight",
                    "cholesterol",
                    "age"
                  ]
                }
              ],
              "layout": {
                "legend": {
                  "bgcolor": "#F5F6F9",
                  "font": {
                    "color": "#4D5663"
                  }
                },
                "paper_bgcolor": "#F5F6F9",
                "plot_bgcolor": "#F5F6F9",
                "template": {
                  "data": {
                    "bar": [
                      {
                        "error_x": {
                          "color": "#2a3f5f"
                        },
                        "error_y": {
                          "color": "#2a3f5f"
                        },
                        "marker": {
                          "line": {
                            "color": "#E5ECF6",
                            "width": 0.5
                          },
                          "pattern": {
                            "fillmode": "overlay",
                            "size": 10,
                            "solidity": 0.2
                          }
                        },
                        "type": "bar"
                      }
                    ],
                    "barpolar": [
                      {
                        "marker": {
                          "line": {
                            "color": "#E5ECF6",
                            "width": 0.5
                          },
                          "pattern": {
                            "fillmode": "overlay",
                            "size": 10,
                            "solidity": 0.2
                          }
                        },
                        "type": "barpolar"
                      }
                    ],
                    "carpet": [
                      {
                        "aaxis": {
                          "endlinecolor": "#2a3f5f",
                          "gridcolor": "white",
                          "linecolor": "white",
                          "minorgridcolor": "white",
                          "startlinecolor": "#2a3f5f"
                        },
                        "baxis": {
                          "endlinecolor": "#2a3f5f",
                          "gridcolor": "white",
                          "linecolor": "white",
                          "minorgridcolor": "white",
                          "startlinecolor": "#2a3f5f"
                        },
                        "type": "carpet"
                      }
                    ],
                    "choropleth": [
                      {
                        "colorbar": {
                          "outlinewidth": 0,
                          "ticks": ""
                        },
                        "type": "choropleth"
                      }
                    ],
                    "contour": [
                      {
                        "colorbar": {
                          "outlinewidth": 0,
                          "ticks": ""
                        },
                        "colorscale": [
                          [
                            0,
                            "#0d0887"
                          ],
                          [
                            0.1111111111111111,
                            "#46039f"
                          ],
                          [
                            0.2222222222222222,
                            "#7201a8"
                          ],
                          [
                            0.3333333333333333,
                            "#9c179e"
                          ],
                          [
                            0.4444444444444444,
                            "#bd3786"
                          ],
                          [
                            0.5555555555555556,
                            "#d8576b"
                          ],
                          [
                            0.6666666666666666,
                            "#ed7953"
                          ],
                          [
                            0.7777777777777778,
                            "#fb9f3a"
                          ],
                          [
                            0.8888888888888888,
                            "#fdca26"
                          ],
                          [
                            1,
                            "#f0f921"
                          ]
                        ],
                        "type": "contour"
                      }
                    ],
                    "contourcarpet": [
                      {
                        "colorbar": {
                          "outlinewidth": 0,
                          "ticks": ""
                        },
                        "type": "contourcarpet"
                      }
                    ],
                    "heatmap": [
                      {
                        "colorbar": {
                          "outlinewidth": 0,
                          "ticks": ""
                        },
                        "colorscale": [
                          [
                            0,
                            "#0d0887"
                          ],
                          [
                            0.1111111111111111,
                            "#46039f"
                          ],
                          [
                            0.2222222222222222,
                            "#7201a8"
                          ],
                          [
                            0.3333333333333333,
                            "#9c179e"
                          ],
                          [
                            0.4444444444444444,
                            "#bd3786"
                          ],
                          [
                            0.5555555555555556,
                            "#d8576b"
                          ],
                          [
                            0.6666666666666666,
                            "#ed7953"
                          ],
                          [
                            0.7777777777777778,
                            "#fb9f3a"
                          ],
                          [
                            0.8888888888888888,
                            "#fdca26"
                          ],
                          [
                            1,
                            "#f0f921"
                          ]
                        ],
                        "type": "heatmap"
                      }
                    ],
                    "heatmapgl": [
                      {
                        "colorbar": {
                          "outlinewidth": 0,
                          "ticks": ""
                        },
                        "colorscale": [
                          [
                            0,
                            "#0d0887"
                          ],
                          [
                            0.1111111111111111,
                            "#46039f"
                          ],
                          [
                            0.2222222222222222,
                            "#7201a8"
                          ],
                          [
                            0.3333333333333333,
                            "#9c179e"
                          ],
                          [
                            0.4444444444444444,
                            "#bd3786"
                          ],
                          [
                            0.5555555555555556,
                            "#d8576b"
                          ],
                          [
                            0.6666666666666666,
                            "#ed7953"
                          ],
                          [
                            0.7777777777777778,
                            "#fb9f3a"
                          ],
                          [
                            0.8888888888888888,
                            "#fdca26"
                          ],
                          [
                            1,
                            "#f0f921"
                          ]
                        ],
                        "type": "heatmapgl"
                      }
                    ],
                    "histogram": [
                      {
                        "marker": {
                          "pattern": {
                            "fillmode": "overlay",
                            "size": 10,
                            "solidity": 0.2
                          }
                        },
                        "type": "histogram"
                      }
                    ],
                    "histogram2d": [
                      {
                        "colorbar": {
                          "outlinewidth": 0,
                          "ticks": ""
                        },
                        "colorscale": [
                          [
                            0,
                            "#0d0887"
                          ],
                          [
                            0.1111111111111111,
                            "#46039f"
                          ],
                          [
                            0.2222222222222222,
                            "#7201a8"
                          ],
                          [
                            0.3333333333333333,
                            "#9c179e"
                          ],
                          [
                            0.4444444444444444,
                            "#bd3786"
                          ],
                          [
                            0.5555555555555556,
                            "#d8576b"
                          ],
                          [
                            0.6666666666666666,
                            "#ed7953"
                          ],
                          [
                            0.7777777777777778,
                            "#fb9f3a"
                          ],
                          [
                            0.8888888888888888,
                            "#fdca26"
                          ],
                          [
                            1,
                            "#f0f921"
                          ]
                        ],
                        "type": "histogram2d"
                      }
                    ],
                    "histogram2dcontour": [
                      {
                        "colorbar": {
                          "outlinewidth": 0,
                          "ticks": ""
                        },
                        "colorscale": [
                          [
                            0,
                            "#0d0887"
                          ],
                          [
                            0.1111111111111111,
                            "#46039f"
                          ],
                          [
                            0.2222222222222222,
                            "#7201a8"
                          ],
                          [
                            0.3333333333333333,
                            "#9c179e"
                          ],
                          [
                            0.4444444444444444,
                            "#bd3786"
                          ],
                          [
                            0.5555555555555556,
                            "#d8576b"
                          ],
                          [
                            0.6666666666666666,
                            "#ed7953"
                          ],
                          [
                            0.7777777777777778,
                            "#fb9f3a"
                          ],
                          [
                            0.8888888888888888,
                            "#fdca26"
                          ],
                          [
                            1,
                            "#f0f921"
                          ]
                        ],
                        "type": "histogram2dcontour"
                      }
                    ],
                    "mesh3d": [
                      {
                        "colorbar": {
                          "outlinewidth": 0,
                          "ticks": ""
                        },
                        "type": "mesh3d"
                      }
                    ],
                    "parcoords": [
                      {
                        "line": {
                          "colorbar": {
                            "outlinewidth": 0,
                            "ticks": ""
                          }
                        },
                        "type": "parcoords"
                      }
                    ],
                    "pie": [
                      {
                        "automargin": true,
                        "type": "pie"
                      }
                    ],
                    "scatter": [
                      {
                        "marker": {
                          "colorbar": {
                            "outlinewidth": 0,
                            "ticks": ""
                          }
                        },
                        "type": "scatter"
                      }
                    ],
                    "scatter3d": [
                      {
                        "line": {
                          "colorbar": {
                            "outlinewidth": 0,
                            "ticks": ""
                          }
                        },
                        "marker": {
                          "colorbar": {
                            "outlinewidth": 0,
                            "ticks": ""
                          }
                        },
                        "type": "scatter3d"
                      }
                    ],
                    "scattercarpet": [
                      {
                        "marker": {
                          "colorbar": {
                            "outlinewidth": 0,
                            "ticks": ""
                          }
                        },
                        "type": "scattercarpet"
                      }
                    ],
                    "scattergeo": [
                      {
                        "marker": {
                          "colorbar": {
                            "outlinewidth": 0,
                            "ticks": ""
                          }
                        },
                        "type": "scattergeo"
                      }
                    ],
                    "scattergl": [
                      {
                        "marker": {
                          "colorbar": {
                            "outlinewidth": 0,
                            "ticks": ""
                          }
                        },
                        "type": "scattergl"
                      }
                    ],
                    "scattermapbox": [
                      {
                        "marker": {
                          "colorbar": {
                            "outlinewidth": 0,
                            "ticks": ""
                          }
                        },
                        "type": "scattermapbox"
                      }
                    ],
                    "scatterpolar": [
                      {
                        "marker": {
                          "colorbar": {
                            "outlinewidth": 0,
                            "ticks": ""
                          }
                        },
                        "type": "scatterpolar"
                      }
                    ],
                    "scatterpolargl": [
                      {
                        "marker": {
                          "colorbar": {
                            "outlinewidth": 0,
                            "ticks": ""
                          }
                        },
                        "type": "scatterpolargl"
                      }
                    ],
                    "scatterternary": [
                      {
                        "marker": {
                          "colorbar": {
                            "outlinewidth": 0,
                            "ticks": ""
                          }
                        },
                        "type": "scatterternary"
                      }
                    ],
                    "surface": [
                      {
                        "colorbar": {
                          "outlinewidth": 0,
                          "ticks": ""
                        },
                        "colorscale": [
                          [
                            0,
                            "#0d0887"
                          ],
                          [
                            0.1111111111111111,
                            "#46039f"
                          ],
                          [
                            0.2222222222222222,
                            "#7201a8"
                          ],
                          [
                            0.3333333333333333,
                            "#9c179e"
                          ],
                          [
                            0.4444444444444444,
                            "#bd3786"
                          ],
                          [
                            0.5555555555555556,
                            "#d8576b"
                          ],
                          [
                            0.6666666666666666,
                            "#ed7953"
                          ],
                          [
                            0.7777777777777778,
                            "#fb9f3a"
                          ],
                          [
                            0.8888888888888888,
                            "#fdca26"
                          ],
                          [
                            1,
                            "#f0f921"
                          ]
                        ],
                        "type": "surface"
                      }
                    ],
                    "table": [
                      {
                        "cells": {
                          "fill": {
                            "color": "#EBF0F8"
                          },
                          "line": {
                            "color": "white"
                          }
                        },
                        "header": {
                          "fill": {
                            "color": "#C8D4E3"
                          },
                          "line": {
                            "color": "white"
                          }
                        },
                        "type": "table"
                      }
                    ]
                  },
                  "layout": {
                    "annotationdefaults": {
                      "arrowcolor": "#2a3f5f",
                      "arrowhead": 0,
                      "arrowwidth": 1
                    },
                    "autotypenumbers": "strict",
                    "coloraxis": {
                      "colorbar": {
                        "outlinewidth": 0,
                        "ticks": ""
                      }
                    },
                    "colorscale": {
                      "diverging": [
                        [
                          0,
                          "#8e0152"
                        ],
                        [
                          0.1,
                          "#c51b7d"
                        ],
                        [
                          0.2,
                          "#de77ae"
                        ],
                        [
                          0.3,
                          "#f1b6da"
                        ],
                        [
                          0.4,
                          "#fde0ef"
                        ],
                        [
                          0.5,
                          "#f7f7f7"
                        ],
                        [
                          0.6,
                          "#e6f5d0"
                        ],
                        [
                          0.7,
                          "#b8e186"
                        ],
                        [
                          0.8,
                          "#7fbc41"
                        ],
                        [
                          0.9,
                          "#4d9221"
                        ],
                        [
                          1,
                          "#276419"
                        ]
                      ],
                      "sequential": [
                        [
                          0,
                          "#0d0887"
                        ],
                        [
                          0.1111111111111111,
                          "#46039f"
                        ],
                        [
                          0.2222222222222222,
                          "#7201a8"
                        ],
                        [
                          0.3333333333333333,
                          "#9c179e"
                        ],
                        [
                          0.4444444444444444,
                          "#bd3786"
                        ],
                        [
                          0.5555555555555556,
                          "#d8576b"
                        ],
                        [
                          0.6666666666666666,
                          "#ed7953"
                        ],
                        [
                          0.7777777777777778,
                          "#fb9f3a"
                        ],
                        [
                          0.8888888888888888,
                          "#fdca26"
                        ],
                        [
                          1,
                          "#f0f921"
                        ]
                      ],
                      "sequentialminus": [
                        [
                          0,
                          "#0d0887"
                        ],
                        [
                          0.1111111111111111,
                          "#46039f"
                        ],
                        [
                          0.2222222222222222,
                          "#7201a8"
                        ],
                        [
                          0.3333333333333333,
                          "#9c179e"
                        ],
                        [
                          0.4444444444444444,
                          "#bd3786"
                        ],
                        [
                          0.5555555555555556,
                          "#d8576b"
                        ],
                        [
                          0.6666666666666666,
                          "#ed7953"
                        ],
                        [
                          0.7777777777777778,
                          "#fb9f3a"
                        ],
                        [
                          0.8888888888888888,
                          "#fdca26"
                        ],
                        [
                          1,
                          "#f0f921"
                        ]
                      ]
                    },
                    "colorway": [
                      "#636efa",
                      "#EF553B",
                      "#00cc96",
                      "#ab63fa",
                      "#FFA15A",
                      "#19d3f3",
                      "#FF6692",
                      "#B6E880",
                      "#FF97FF",
                      "#FECB52"
                    ],
                    "font": {
                      "color": "#2a3f5f"
                    },
                    "geo": {
                      "bgcolor": "white",
                      "lakecolor": "white",
                      "landcolor": "#E5ECF6",
                      "showlakes": true,
                      "showland": true,
                      "subunitcolor": "white"
                    },
                    "hoverlabel": {
                      "align": "left"
                    },
                    "hovermode": "closest",
                    "mapbox": {
                      "style": "light"
                    },
                    "paper_bgcolor": "white",
                    "plot_bgcolor": "#E5ECF6",
                    "polar": {
                      "angularaxis": {
                        "gridcolor": "white",
                        "linecolor": "white",
                        "ticks": ""
                      },
                      "bgcolor": "#E5ECF6",
                      "radialaxis": {
                        "gridcolor": "white",
                        "linecolor": "white",
                        "ticks": ""
                      }
                    },
                    "scene": {
                      "xaxis": {
                        "backgroundcolor": "#E5ECF6",
                        "gridcolor": "white",
                        "gridwidth": 2,
                        "linecolor": "white",
                        "showbackground": true,
                        "ticks": "",
                        "zerolinecolor": "white"
                      },
                      "yaxis": {
                        "backgroundcolor": "#E5ECF6",
                        "gridcolor": "white",
                        "gridwidth": 2,
                        "linecolor": "white",
                        "showbackground": true,
                        "ticks": "",
                        "zerolinecolor": "white"
                      },
                      "zaxis": {
                        "backgroundcolor": "#E5ECF6",
                        "gridcolor": "white",
                        "gridwidth": 2,
                        "linecolor": "white",
                        "showbackground": true,
                        "ticks": "",
                        "zerolinecolor": "white"
                      }
                    },
                    "shapedefaults": {
                      "line": {
                        "color": "#2a3f5f"
                      }
                    },
                    "ternary": {
                      "aaxis": {
                        "gridcolor": "white",
                        "linecolor": "white",
                        "ticks": ""
                      },
                      "baxis": {
                        "gridcolor": "white",
                        "linecolor": "white",
                        "ticks": ""
                      },
                      "bgcolor": "#E5ECF6",
                      "caxis": {
                        "gridcolor": "white",
                        "linecolor": "white",
                        "ticks": ""
                      }
                    },
                    "title": {
                      "x": 0.05
                    },
                    "xaxis": {
                      "automargin": true,
                      "gridcolor": "white",
                      "linecolor": "white",
                      "ticks": "",
                      "title": {
                        "standoff": 15
                      },
                      "zerolinecolor": "white",
                      "zerolinewidth": 2
                    },
                    "yaxis": {
                      "automargin": true,
                      "gridcolor": "white",
                      "linecolor": "white",
                      "ticks": "",
                      "title": {
                        "standoff": 15
                      },
                      "zerolinecolor": "white",
                      "zerolinewidth": 2
                    }
                  }
                },
                "title": {
                  "font": {
                    "color": "#4D5663"
                  }
                },
                "xaxis": {
                  "gridcolor": "#E1E5ED",
                  "showgrid": true,
                  "tickfont": {
                    "color": "#4D5663"
                  },
                  "title": {
                    "font": {
                      "color": "#4D5663"
                    },
                    "text": ""
                  },
                  "zerolinecolor": "#E1E5ED"
                },
                "yaxis": {
                  "gridcolor": "#E1E5ED",
                  "showgrid": true,
                  "tickfont": {
                    "color": "#4D5663"
                  },
                  "title": {
                    "font": {
                      "color": "#4D5663"
                    },
                    "text": ""
                  },
                  "zerolinecolor": "#E1E5ED"
                }
              }
            },
            "text/html": [
              "<div>                            <div id=\"be1e78c7-ac97-49ac-8d14-da14ccd56931\" class=\"plotly-graph-div\" style=\"height:525px; width:100%;\"></div>            <script type=\"text/javascript\">                require([\"plotly\"], function(Plotly) {                    window.PLOTLYENV=window.PLOTLYENV || {};\n",
              "                    window.PLOTLYENV.BASE_URL='https://plot.ly';                                    if (document.getElementById(\"be1e78c7-ac97-49ac-8d14-da14ccd56931\")) {                    Plotly.newPlot(                        \"be1e78c7-ac97-49ac-8d14-da14ccd56931\",                        [{\"marker\":{\"color\":\"rgba(255, 153, 51, 0.6)\",\"line\":{\"color\":\"rgba(255, 153, 51, 1.0)\",\"width\":1}},\"name\":\"cardio\",\"orientation\":\"h\",\"text\":\"\",\"x\":[-0.03565324811519037,-0.015485935661367784,-0.01082105833100495,-0.007330231723202663,0.003799389187199488,0.008109491913122303,0.05447505392686579,0.06571869614919028,0.08930688732430264,0.18165956179862647,0.2211472739123984,0.23815922744230844],\"y\":[\"active\",\"smoke\",\"height\",\"alco\",\"id\",\"gender\",\"ap_hi\",\"ap_lo\",\"gluc\",\"weight\",\"cholesterol\",\"age\"],\"type\":\"bar\"}],                        {\"legend\":{\"bgcolor\":\"#F5F6F9\",\"font\":{\"color\":\"#4D5663\"}},\"paper_bgcolor\":\"#F5F6F9\",\"plot_bgcolor\":\"#F5F6F9\",\"template\":{\"data\":{\"barpolar\":[{\"marker\":{\"line\":{\"color\":\"#E5ECF6\",\"width\":0.5},\"pattern\":{\"fillmode\":\"overlay\",\"size\":10,\"solidity\":0.2}},\"type\":\"barpolar\"}],\"bar\":[{\"error_x\":{\"color\":\"#2a3f5f\"},\"error_y\":{\"color\":\"#2a3f5f\"},\"marker\":{\"line\":{\"color\":\"#E5ECF6\",\"width\":0.5},\"pattern\":{\"fillmode\":\"overlay\",\"size\":10,\"solidity\":0.2}},\"type\":\"bar\"}],\"carpet\":[{\"aaxis\":{\"endlinecolor\":\"#2a3f5f\",\"gridcolor\":\"white\",\"linecolor\":\"white\",\"minorgridcolor\":\"white\",\"startlinecolor\":\"#2a3f5f\"},\"baxis\":{\"endlinecolor\":\"#2a3f5f\",\"gridcolor\":\"white\",\"linecolor\":\"white\",\"minorgridcolor\":\"white\",\"startlinecolor\":\"#2a3f5f\"},\"type\":\"carpet\"}],\"choropleth\":[{\"colorbar\":{\"outlinewidth\":0,\"ticks\":\"\"},\"type\":\"choropleth\"}],\"contourcarpet\":[{\"colorbar\":{\"outlinewidth\":0,\"ticks\":\"\"},\"type\":\"contourcarpet\"}],\"contour\":[{\"colorbar\":{\"outlinewidth\":0,\"ticks\":\"\"},\"colorscale\":[[0.0,\"#0d0887\"],[0.1111111111111111,\"#46039f\"],[0.2222222222222222,\"#7201a8\"],[0.3333333333333333,\"#9c179e\"],[0.4444444444444444,\"#bd3786\"],[0.5555555555555556,\"#d8576b\"],[0.6666666666666666,\"#ed7953\"],[0.7777777777777778,\"#fb9f3a\"],[0.8888888888888888,\"#fdca26\"],[1.0,\"#f0f921\"]],\"type\":\"contour\"}],\"heatmapgl\":[{\"colorbar\":{\"outlinewidth\":0,\"ticks\":\"\"},\"colorscale\":[[0.0,\"#0d0887\"],[0.1111111111111111,\"#46039f\"],[0.2222222222222222,\"#7201a8\"],[0.3333333333333333,\"#9c179e\"],[0.4444444444444444,\"#bd3786\"],[0.5555555555555556,\"#d8576b\"],[0.6666666666666666,\"#ed7953\"],[0.7777777777777778,\"#fb9f3a\"],[0.8888888888888888,\"#fdca26\"],[1.0,\"#f0f921\"]],\"type\":\"heatmapgl\"}],\"heatmap\":[{\"colorbar\":{\"outlinewidth\":0,\"ticks\":\"\"},\"colorscale\":[[0.0,\"#0d0887\"],[0.1111111111111111,\"#46039f\"],[0.2222222222222222,\"#7201a8\"],[0.3333333333333333,\"#9c179e\"],[0.4444444444444444,\"#bd3786\"],[0.5555555555555556,\"#d8576b\"],[0.6666666666666666,\"#ed7953\"],[0.7777777777777778,\"#fb9f3a\"],[0.8888888888888888,\"#fdca26\"],[1.0,\"#f0f921\"]],\"type\":\"heatmap\"}],\"histogram2dcontour\":[{\"colorbar\":{\"outlinewidth\":0,\"ticks\":\"\"},\"colorscale\":[[0.0,\"#0d0887\"],[0.1111111111111111,\"#46039f\"],[0.2222222222222222,\"#7201a8\"],[0.3333333333333333,\"#9c179e\"],[0.4444444444444444,\"#bd3786\"],[0.5555555555555556,\"#d8576b\"],[0.6666666666666666,\"#ed7953\"],[0.7777777777777778,\"#fb9f3a\"],[0.8888888888888888,\"#fdca26\"],[1.0,\"#f0f921\"]],\"type\":\"histogram2dcontour\"}],\"histogram2d\":[{\"colorbar\":{\"outlinewidth\":0,\"ticks\":\"\"},\"colorscale\":[[0.0,\"#0d0887\"],[0.1111111111111111,\"#46039f\"],[0.2222222222222222,\"#7201a8\"],[0.3333333333333333,\"#9c179e\"],[0.4444444444444444,\"#bd3786\"],[0.5555555555555556,\"#d8576b\"],[0.6666666666666666,\"#ed7953\"],[0.7777777777777778,\"#fb9f3a\"],[0.8888888888888888,\"#fdca26\"],[1.0,\"#f0f921\"]],\"type\":\"histogram2d\"}],\"histogram\":[{\"marker\":{\"pattern\":{\"fillmode\":\"overlay\",\"size\":10,\"solidity\":0.2}},\"type\":\"histogram\"}],\"mesh3d\":[{\"colorbar\":{\"outlinewidth\":0,\"ticks\":\"\"},\"type\":\"mesh3d\"}],\"parcoords\":[{\"line\":{\"colorbar\":{\"outlinewidth\":0,\"ticks\":\"\"}},\"type\":\"parcoords\"}],\"pie\":[{\"automargin\":true,\"type\":\"pie\"}],\"scatter3d\":[{\"line\":{\"colorbar\":{\"outlinewidth\":0,\"ticks\":\"\"}},\"marker\":{\"colorbar\":{\"outlinewidth\":0,\"ticks\":\"\"}},\"type\":\"scatter3d\"}],\"scattercarpet\":[{\"marker\":{\"colorbar\":{\"outlinewidth\":0,\"ticks\":\"\"}},\"type\":\"scattercarpet\"}],\"scattergeo\":[{\"marker\":{\"colorbar\":{\"outlinewidth\":0,\"ticks\":\"\"}},\"type\":\"scattergeo\"}],\"scattergl\":[{\"marker\":{\"colorbar\":{\"outlinewidth\":0,\"ticks\":\"\"}},\"type\":\"scattergl\"}],\"scattermapbox\":[{\"marker\":{\"colorbar\":{\"outlinewidth\":0,\"ticks\":\"\"}},\"type\":\"scattermapbox\"}],\"scatterpolargl\":[{\"marker\":{\"colorbar\":{\"outlinewidth\":0,\"ticks\":\"\"}},\"type\":\"scatterpolargl\"}],\"scatterpolar\":[{\"marker\":{\"colorbar\":{\"outlinewidth\":0,\"ticks\":\"\"}},\"type\":\"scatterpolar\"}],\"scatter\":[{\"marker\":{\"colorbar\":{\"outlinewidth\":0,\"ticks\":\"\"}},\"type\":\"scatter\"}],\"scatterternary\":[{\"marker\":{\"colorbar\":{\"outlinewidth\":0,\"ticks\":\"\"}},\"type\":\"scatterternary\"}],\"surface\":[{\"colorbar\":{\"outlinewidth\":0,\"ticks\":\"\"},\"colorscale\":[[0.0,\"#0d0887\"],[0.1111111111111111,\"#46039f\"],[0.2222222222222222,\"#7201a8\"],[0.3333333333333333,\"#9c179e\"],[0.4444444444444444,\"#bd3786\"],[0.5555555555555556,\"#d8576b\"],[0.6666666666666666,\"#ed7953\"],[0.7777777777777778,\"#fb9f3a\"],[0.8888888888888888,\"#fdca26\"],[1.0,\"#f0f921\"]],\"type\":\"surface\"}],\"table\":[{\"cells\":{\"fill\":{\"color\":\"#EBF0F8\"},\"line\":{\"color\":\"white\"}},\"header\":{\"fill\":{\"color\":\"#C8D4E3\"},\"line\":{\"color\":\"white\"}},\"type\":\"table\"}]},\"layout\":{\"annotationdefaults\":{\"arrowcolor\":\"#2a3f5f\",\"arrowhead\":0,\"arrowwidth\":1},\"autotypenumbers\":\"strict\",\"coloraxis\":{\"colorbar\":{\"outlinewidth\":0,\"ticks\":\"\"}},\"colorscale\":{\"diverging\":[[0,\"#8e0152\"],[0.1,\"#c51b7d\"],[0.2,\"#de77ae\"],[0.3,\"#f1b6da\"],[0.4,\"#fde0ef\"],[0.5,\"#f7f7f7\"],[0.6,\"#e6f5d0\"],[0.7,\"#b8e186\"],[0.8,\"#7fbc41\"],[0.9,\"#4d9221\"],[1,\"#276419\"]],\"sequential\":[[0.0,\"#0d0887\"],[0.1111111111111111,\"#46039f\"],[0.2222222222222222,\"#7201a8\"],[0.3333333333333333,\"#9c179e\"],[0.4444444444444444,\"#bd3786\"],[0.5555555555555556,\"#d8576b\"],[0.6666666666666666,\"#ed7953\"],[0.7777777777777778,\"#fb9f3a\"],[0.8888888888888888,\"#fdca26\"],[1.0,\"#f0f921\"]],\"sequentialminus\":[[0.0,\"#0d0887\"],[0.1111111111111111,\"#46039f\"],[0.2222222222222222,\"#7201a8\"],[0.3333333333333333,\"#9c179e\"],[0.4444444444444444,\"#bd3786\"],[0.5555555555555556,\"#d8576b\"],[0.6666666666666666,\"#ed7953\"],[0.7777777777777778,\"#fb9f3a\"],[0.8888888888888888,\"#fdca26\"],[1.0,\"#f0f921\"]]},\"colorway\":[\"#636efa\",\"#EF553B\",\"#00cc96\",\"#ab63fa\",\"#FFA15A\",\"#19d3f3\",\"#FF6692\",\"#B6E880\",\"#FF97FF\",\"#FECB52\"],\"font\":{\"color\":\"#2a3f5f\"},\"geo\":{\"bgcolor\":\"white\",\"lakecolor\":\"white\",\"landcolor\":\"#E5ECF6\",\"showlakes\":true,\"showland\":true,\"subunitcolor\":\"white\"},\"hoverlabel\":{\"align\":\"left\"},\"hovermode\":\"closest\",\"mapbox\":{\"style\":\"light\"},\"paper_bgcolor\":\"white\",\"plot_bgcolor\":\"#E5ECF6\",\"polar\":{\"angularaxis\":{\"gridcolor\":\"white\",\"linecolor\":\"white\",\"ticks\":\"\"},\"bgcolor\":\"#E5ECF6\",\"radialaxis\":{\"gridcolor\":\"white\",\"linecolor\":\"white\",\"ticks\":\"\"}},\"scene\":{\"xaxis\":{\"backgroundcolor\":\"#E5ECF6\",\"gridcolor\":\"white\",\"gridwidth\":2,\"linecolor\":\"white\",\"showbackground\":true,\"ticks\":\"\",\"zerolinecolor\":\"white\"},\"yaxis\":{\"backgroundcolor\":\"#E5ECF6\",\"gridcolor\":\"white\",\"gridwidth\":2,\"linecolor\":\"white\",\"showbackground\":true,\"ticks\":\"\",\"zerolinecolor\":\"white\"},\"zaxis\":{\"backgroundcolor\":\"#E5ECF6\",\"gridcolor\":\"white\",\"gridwidth\":2,\"linecolor\":\"white\",\"showbackground\":true,\"ticks\":\"\",\"zerolinecolor\":\"white\"}},\"shapedefaults\":{\"line\":{\"color\":\"#2a3f5f\"}},\"ternary\":{\"aaxis\":{\"gridcolor\":\"white\",\"linecolor\":\"white\",\"ticks\":\"\"},\"baxis\":{\"gridcolor\":\"white\",\"linecolor\":\"white\",\"ticks\":\"\"},\"bgcolor\":\"#E5ECF6\",\"caxis\":{\"gridcolor\":\"white\",\"linecolor\":\"white\",\"ticks\":\"\"}},\"title\":{\"x\":0.05},\"xaxis\":{\"automargin\":true,\"gridcolor\":\"white\",\"linecolor\":\"white\",\"ticks\":\"\",\"title\":{\"standoff\":15},\"zerolinecolor\":\"white\",\"zerolinewidth\":2},\"yaxis\":{\"automargin\":true,\"gridcolor\":\"white\",\"linecolor\":\"white\",\"ticks\":\"\",\"title\":{\"standoff\":15},\"zerolinecolor\":\"white\",\"zerolinewidth\":2}}},\"title\":{\"font\":{\"color\":\"#4D5663\"}},\"xaxis\":{\"gridcolor\":\"#E1E5ED\",\"showgrid\":true,\"tickfont\":{\"color\":\"#4D5663\"},\"title\":{\"font\":{\"color\":\"#4D5663\"},\"text\":\"\"},\"zerolinecolor\":\"#E1E5ED\"},\"yaxis\":{\"gridcolor\":\"#E1E5ED\",\"showgrid\":true,\"tickfont\":{\"color\":\"#4D5663\"},\"title\":{\"font\":{\"color\":\"#4D5663\"},\"text\":\"\"},\"zerolinecolor\":\"#E1E5ED\"}},                        {\"showLink\": true, \"linkText\": \"Export to plot.ly\", \"plotlyServerURL\": \"https://plot.ly\", \"responsive\": true}                    ).then(function(){\n",
              "                            \n",
              "var gd = document.getElementById('be1e78c7-ac97-49ac-8d14-da14ccd56931');\n",
              "var x = new MutationObserver(function (mutations, observer) {{\n",
              "        var display = window.getComputedStyle(gd).display;\n",
              "        if (!display || display === 'none') {{\n",
              "            console.log([gd, 'removed!']);\n",
              "            Plotly.purge(gd);\n",
              "            observer.disconnect();\n",
              "        }}\n",
              "}});\n",
              "\n",
              "// Listen for the removal of the full notebook cells\n",
              "var notebookContainer = gd.closest('#notebook-container');\n",
              "if (notebookContainer) {{\n",
              "    x.observe(notebookContainer, {childList: true});\n",
              "}}\n",
              "\n",
              "// Listen for the clearing of the current output cell\n",
              "var outputEl = gd.closest('.output');\n",
              "if (outputEl) {{\n",
              "    x.observe(outputEl, {childList: true});\n",
              "}}\n",
              "\n",
              "                        })                };                });            </script>        </div>"
            ]
          },
          "metadata": {},
          "output_type": "display_data"
        }
      ],
      "source": [
        "#plotting Correlation of features with target variable using plotly\n",
        "\n",
        "init_notebook_mode(connected=True)\n",
        "cf.go_offline()\n",
        "\n",
        "print('Correlation of features with target variable')\n",
        "df.corr()['cardio'].sort_values()[:-1].iplot(kind='barh');\n",
        "plt.show()"
      ]
    },
    {
      "cell_type": "markdown",
      "metadata": {
        "id": "RGmDnrYNO1SQ"
      },
      "source": [
        "![corr.png](data:image/png;base64,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)"
      ]
    },
    {
      "cell_type": "markdown",
      "metadata": {
        "id": "NwOghZ1Y76kY"
      },
      "source": [
        "**The first 3 feature (Age, Cholestrol and weight) are most effective on cardiovascular disease (Age is the most effective)**\n",
        "\n",
        "\n",
        "---\n",
        "\n"
      ]
    },
    {
      "cell_type": "markdown",
      "metadata": {
        "id": "zxTPeHARtgtb"
      },
      "source": [
        "### Looking at the above information we see that:\n",
        "- ID needs to be dropped.\n",
        "- Age provided is in days. We will convert it to years\n",
        "- Gender can be converted to binary\n",
        "- ap_hi and ap_lo has negative numbers. This means that we have outliers so we need to remove them.\n",
        "- Gluc and Cholestrol need to be converted to dummies\n",
        "- There are many rare cases in height and weight features, so we can combine them in  BMI feature (get 1 feature from 2 features)."
      ]
    },
    {
      "cell_type": "markdown",
      "metadata": {
        "id": "bKqUSAFY6454"
      },
      "source": [
        "## Data cleaning & Preprocessing"
      ]
    },
    {
      "cell_type": "code",
      "execution_count": 80,
      "metadata": {
        "colab": {
          "base_uri": "https://localhost:8080/"
        },
        "id": "I730rwmwxvoJ",
        "outputId": "f9b5c59e-2a56-4f8d-e907-4f0b0bf745a7"
      },
      "outputs": [
        {
          "name": "stdout",
          "output_type": "stream",
          "text": [
            "(70000, 11)\n"
          ]
        }
      ],
      "source": [
        "data = df\n",
        "# Drop ID\n",
        "data = data.drop(['id'], axis=1)\n",
        "# Convert Age to years \n",
        "# Check rounding\n",
        "data['age'] = data['age']/365\n",
        "# Merge Weight and Height into 1 feature: BMI\n",
        "data['BMI'] = np.round(data['weight']/np.square(data['height']/100),1)\n",
        "# Remove height and weight\n",
        "data = data.drop(['weight', 'height'], axis=1)\n",
        "data.head()\n",
        "print(data.shape)"
      ]
    },
    {
      "cell_type": "markdown",
      "metadata": {
        "id": "uZkU-JAF7Axj"
      },
      "source": [
        "### Remove Outliers"
      ]
    },
    {
      "cell_type": "code",
      "execution_count": 81,
      "metadata": {
        "colab": {
          "base_uri": "https://localhost:8080/"
        },
        "id": "Jba3croo7AAl",
        "outputId": "8898f9b3-2a72-4d4a-ed46-2974163f5e60"
      },
      "outputs": [
        {
          "name": "stdout",
          "output_type": "stream",
          "text": [
            "(68749, 11)\n"
          ]
        }
      ],
      "source": [
        "# From BMI\n",
        "data = data[(data[\"BMI\"]>10) & (data[\"BMI\"]<100)]\n",
        "# From Blood Pressure\n",
        "data = data[(data[\"ap_hi\"]>20) & (data[\"ap_hi\"]<250)]\n",
        "data = data[(data[\"ap_lo\"]>20) & (data[\"ap_lo\"]<200)]\n",
        "\n",
        "print(data.shape)\n"
      ]
    },
    {
      "cell_type": "markdown",
      "metadata": {
        "id": "zbM9FjQrvQ_T"
      },
      "source": [
        "**We removed 1,251 row that means 1.7 % of data which is not too high**\n",
        "\n",
        "---\n",
        "\n"
      ]
    },
    {
      "cell_type": "markdown",
      "metadata": {
        "id": "G2K4BRo_90NY"
      },
      "source": [
        "### Convert categorical variable into indicator variables"
      ]
    },
    {
      "cell_type": "code",
      "execution_count": 82,
      "metadata": {
        "colab": {
          "base_uri": "https://localhost:8080/",
          "height": 270
        },
        "id": "5kRd129s9zmY",
        "outputId": "fd820948-4847-4b1e-c990-87a1a927f6a9"
      },
      "outputs": [
        {
          "data": {
            "text/html": [
              "<div>\n",
              "<style scoped>\n",
              "    .dataframe tbody tr th:only-of-type {\n",
              "        vertical-align: middle;\n",
              "    }\n",
              "\n",
              "    .dataframe tbody tr th {\n",
              "        vertical-align: top;\n",
              "    }\n",
              "\n",
              "    .dataframe thead th {\n",
              "        text-align: right;\n",
              "    }\n",
              "</style>\n",
              "<table border=\"1\" class=\"dataframe\">\n",
              "  <thead>\n",
              "    <tr style=\"text-align: right;\">\n",
              "      <th></th>\n",
              "      <th>age</th>\n",
              "      <th>gender</th>\n",
              "      <th>ap_hi</th>\n",
              "      <th>ap_lo</th>\n",
              "      <th>smoke</th>\n",
              "      <th>alco</th>\n",
              "      <th>active</th>\n",
              "      <th>cardio</th>\n",
              "      <th>BMI</th>\n",
              "      <th>cholesterol_aboveNormal</th>\n",
              "      <th>cholesterol_normal</th>\n",
              "      <th>cholesterol_wellAboveNormal</th>\n",
              "      <th>gluc_aboveNormal</th>\n",
              "      <th>gluc_normal</th>\n",
              "      <th>gluc_wellAboveNormal</th>\n",
              "    </tr>\n",
              "  </thead>\n",
              "  <tbody>\n",
              "    <tr>\n",
              "      <th>0</th>\n",
              "      <td>50.391781</td>\n",
              "      <td>2</td>\n",
              "      <td>110</td>\n",
              "      <td>80</td>\n",
              "      <td>0</td>\n",
              "      <td>0</td>\n",
              "      <td>1</td>\n",
              "      <td>0</td>\n",
              "      <td>22.0</td>\n",
              "      <td>0</td>\n",
              "      <td>1</td>\n",
              "      <td>0</td>\n",
              "      <td>0</td>\n",
              "      <td>1</td>\n",
              "      <td>0</td>\n",
              "    </tr>\n",
              "    <tr>\n",
              "      <th>1</th>\n",
              "      <td>55.419178</td>\n",
              "      <td>1</td>\n",
              "      <td>140</td>\n",
              "      <td>90</td>\n",
              "      <td>0</td>\n",
              "      <td>0</td>\n",
              "      <td>1</td>\n",
              "      <td>1</td>\n",
              "      <td>34.9</td>\n",
              "      <td>0</td>\n",
              "      <td>0</td>\n",
              "      <td>1</td>\n",
              "      <td>0</td>\n",
              "      <td>1</td>\n",
              "      <td>0</td>\n",
              "    </tr>\n",
              "    <tr>\n",
              "      <th>2</th>\n",
              "      <td>51.663014</td>\n",
              "      <td>1</td>\n",
              "      <td>130</td>\n",
              "      <td>70</td>\n",
              "      <td>0</td>\n",
              "      <td>0</td>\n",
              "      <td>0</td>\n",
              "      <td>1</td>\n",
              "      <td>23.5</td>\n",
              "      <td>0</td>\n",
              "      <td>0</td>\n",
              "      <td>1</td>\n",
              "      <td>0</td>\n",
              "      <td>1</td>\n",
              "      <td>0</td>\n",
              "    </tr>\n",
              "    <tr>\n",
              "      <th>3</th>\n",
              "      <td>48.282192</td>\n",
              "      <td>2</td>\n",
              "      <td>150</td>\n",
              "      <td>100</td>\n",
              "      <td>0</td>\n",
              "      <td>0</td>\n",
              "      <td>1</td>\n",
              "      <td>1</td>\n",
              "      <td>28.7</td>\n",
              "      <td>0</td>\n",
              "      <td>1</td>\n",
              "      <td>0</td>\n",
              "      <td>0</td>\n",
              "      <td>1</td>\n",
              "      <td>0</td>\n",
              "    </tr>\n",
              "    <tr>\n",
              "      <th>4</th>\n",
              "      <td>47.873973</td>\n",
              "      <td>1</td>\n",
              "      <td>100</td>\n",
              "      <td>60</td>\n",
              "      <td>0</td>\n",
              "      <td>0</td>\n",
              "      <td>0</td>\n",
              "      <td>0</td>\n",
              "      <td>23.0</td>\n",
              "      <td>0</td>\n",
              "      <td>1</td>\n",
              "      <td>0</td>\n",
              "      <td>0</td>\n",
              "      <td>1</td>\n",
              "      <td>0</td>\n",
              "    </tr>\n",
              "  </tbody>\n",
              "</table>\n",
              "</div>"
            ],
            "text/plain": [
              "         age  gender  ap_hi  ap_lo  smoke  alco  active  cardio   BMI  \\\n",
              "0  50.391781       2    110     80      0     0       1       0  22.0   \n",
              "1  55.419178       1    140     90      0     0       1       1  34.9   \n",
              "2  51.663014       1    130     70      0     0       0       1  23.5   \n",
              "3  48.282192       2    150    100      0     0       1       1  28.7   \n",
              "4  47.873973       1    100     60      0     0       0       0  23.0   \n",
              "\n",
              "   cholesterol_aboveNormal  cholesterol_normal  cholesterol_wellAboveNormal  \\\n",
              "0                        0                   1                            0   \n",
              "1                        0                   0                            1   \n",
              "2                        0                   0                            1   \n",
              "3                        0                   1                            0   \n",
              "4                        0                   1                            0   \n",
              "\n",
              "   gluc_aboveNormal  gluc_normal  gluc_wellAboveNormal  \n",
              "0                 0            1                     0  \n",
              "1                 0            1                     0  \n",
              "2                 0            1                     0  \n",
              "3                 0            1                     0  \n",
              "4                 0            1                     0  "
            ]
          },
          "execution_count": 82,
          "metadata": {},
          "output_type": "execute_result"
        }
      ],
      "source": [
        "# Convert numeric values in cholestrol to text\n",
        "data['cholesterol'] = data['cholesterol'].map({ 1: 'normal', 2: 'aboveNormal', 3: 'wellAboveNormal'})\n",
        "# Convert numeric values in glucose to text\n",
        "data['gluc']=data['gluc'].map({ 1: 'normal', 2: 'aboveNormal', 3: 'wellAboveNormal'})\n",
        "# Create Dummy Variable for Cholestrol and glucose\n",
        "dummies = pd.get_dummies(data[['cholesterol','gluc']])\n",
        "\n",
        "data = pd.concat([data,dummies],axis=1)\n",
        "\n",
        "data.drop(['cholesterol','gluc'],axis=1,inplace=True)\n",
        "data.head()"
      ]
    },
    {
      "cell_type": "code",
      "execution_count": 83,
      "metadata": {
        "colab": {
          "base_uri": "https://localhost:8080/",
          "height": 270
        },
        "id": "ynC7LY59_i7w",
        "outputId": "a74b6ba1-ec4e-47ba-8e13-196ccc427898"
      },
      "outputs": [
        {
          "data": {
            "text/html": [
              "<div>\n",
              "<style scoped>\n",
              "    .dataframe tbody tr th:only-of-type {\n",
              "        vertical-align: middle;\n",
              "    }\n",
              "\n",
              "    .dataframe tbody tr th {\n",
              "        vertical-align: top;\n",
              "    }\n",
              "\n",
              "    .dataframe thead th {\n",
              "        text-align: right;\n",
              "    }\n",
              "</style>\n",
              "<table border=\"1\" class=\"dataframe\">\n",
              "  <thead>\n",
              "    <tr style=\"text-align: right;\">\n",
              "      <th></th>\n",
              "      <th>age</th>\n",
              "      <th>gender</th>\n",
              "      <th>ap_hi</th>\n",
              "      <th>ap_lo</th>\n",
              "      <th>smoke</th>\n",
              "      <th>alco</th>\n",
              "      <th>active</th>\n",
              "      <th>cardio</th>\n",
              "      <th>BMI</th>\n",
              "      <th>cholesterol_aboveNormal</th>\n",
              "      <th>cholesterol_normal</th>\n",
              "      <th>cholesterol_wellAboveNormal</th>\n",
              "      <th>gluc_aboveNormal</th>\n",
              "      <th>gluc_normal</th>\n",
              "      <th>gluc_wellAboveNormal</th>\n",
              "    </tr>\n",
              "  </thead>\n",
              "  <tbody>\n",
              "    <tr>\n",
              "      <th>0</th>\n",
              "      <td>50.391781</td>\n",
              "      <td>0</td>\n",
              "      <td>110</td>\n",
              "      <td>80</td>\n",
              "      <td>0</td>\n",
              "      <td>0</td>\n",
              "      <td>1</td>\n",
              "      <td>0</td>\n",
              "      <td>22.0</td>\n",
              "      <td>0</td>\n",
              "      <td>1</td>\n",
              "      <td>0</td>\n",
              "      <td>0</td>\n",
              "      <td>1</td>\n",
              "      <td>0</td>\n",
              "    </tr>\n",
              "    <tr>\n",
              "      <th>1</th>\n",
              "      <td>55.419178</td>\n",
              "      <td>1</td>\n",
              "      <td>140</td>\n",
              "      <td>90</td>\n",
              "      <td>0</td>\n",
              "      <td>0</td>\n",
              "      <td>1</td>\n",
              "      <td>1</td>\n",
              "      <td>34.9</td>\n",
              "      <td>0</td>\n",
              "      <td>0</td>\n",
              "      <td>1</td>\n",
              "      <td>0</td>\n",
              "      <td>1</td>\n",
              "      <td>0</td>\n",
              "    </tr>\n",
              "    <tr>\n",
              "      <th>2</th>\n",
              "      <td>51.663014</td>\n",
              "      <td>1</td>\n",
              "      <td>130</td>\n",
              "      <td>70</td>\n",
              "      <td>0</td>\n",
              "      <td>0</td>\n",
              "      <td>0</td>\n",
              "      <td>1</td>\n",
              "      <td>23.5</td>\n",
              "      <td>0</td>\n",
              "      <td>0</td>\n",
              "      <td>1</td>\n",
              "      <td>0</td>\n",
              "      <td>1</td>\n",
              "      <td>0</td>\n",
              "    </tr>\n",
              "    <tr>\n",
              "      <th>3</th>\n",
              "      <td>48.282192</td>\n",
              "      <td>0</td>\n",
              "      <td>150</td>\n",
              "      <td>100</td>\n",
              "      <td>0</td>\n",
              "      <td>0</td>\n",
              "      <td>1</td>\n",
              "      <td>1</td>\n",
              "      <td>28.7</td>\n",
              "      <td>0</td>\n",
              "      <td>1</td>\n",
              "      <td>0</td>\n",
              "      <td>0</td>\n",
              "      <td>1</td>\n",
              "      <td>0</td>\n",
              "    </tr>\n",
              "    <tr>\n",
              "      <th>4</th>\n",
              "      <td>47.873973</td>\n",
              "      <td>1</td>\n",
              "      <td>100</td>\n",
              "      <td>60</td>\n",
              "      <td>0</td>\n",
              "      <td>0</td>\n",
              "      <td>0</td>\n",
              "      <td>0</td>\n",
              "      <td>23.0</td>\n",
              "      <td>0</td>\n",
              "      <td>1</td>\n",
              "      <td>0</td>\n",
              "      <td>0</td>\n",
              "      <td>1</td>\n",
              "      <td>0</td>\n",
              "    </tr>\n",
              "  </tbody>\n",
              "</table>\n",
              "</div>"
            ],
            "text/plain": [
              "         age  gender  ap_hi  ap_lo  smoke  alco  active  cardio   BMI  \\\n",
              "0  50.391781       0    110     80      0     0       1       0  22.0   \n",
              "1  55.419178       1    140     90      0     0       1       1  34.9   \n",
              "2  51.663014       1    130     70      0     0       0       1  23.5   \n",
              "3  48.282192       0    150    100      0     0       1       1  28.7   \n",
              "4  47.873973       1    100     60      0     0       0       0  23.0   \n",
              "\n",
              "   cholesterol_aboveNormal  cholesterol_normal  cholesterol_wellAboveNormal  \\\n",
              "0                        0                   1                            0   \n",
              "1                        0                   0                            1   \n",
              "2                        0                   0                            1   \n",
              "3                        0                   1                            0   \n",
              "4                        0                   1                            0   \n",
              "\n",
              "   gluc_aboveNormal  gluc_normal  gluc_wellAboveNormal  \n",
              "0                 0            1                     0  \n",
              "1                 0            1                     0  \n",
              "2                 0            1                     0  \n",
              "3                 0            1                     0  \n",
              "4                 0            1                     0  "
            ]
          },
          "execution_count": 83,
          "metadata": {},
          "output_type": "execute_result"
        }
      ],
      "source": [
        "# Convert gender to binary values  --> 0 women, 1 men\n",
        "data[\"gender\"] = data[\"gender\"] % 2\n",
        "data.head()"
      ]
    },
    {
      "cell_type": "markdown",
      "metadata": {
        "id": "7hcSwiucRiZC"
      },
      "source": [
        "### Scaling non-categorical data"
      ]
    },
    {
      "cell_type": "code",
      "execution_count": 84,
      "metadata": {
        "id": "v7njHounRHUk"
      },
      "outputs": [],
      "source": [
        "# Standardization for non categorical features, concatenate with categorical\n",
        "\n",
        "# Scaling function takes data and type of scaler and return scaled data\n",
        "def Scaling_fn(dat, scaler):\n",
        "  non_categorical = ['age', 'ap_hi', 'ap_lo', 'BMI']\n",
        "  # Normalize non-categorical data only \n",
        "  dat[non_categorical] = scaler.fit_transform(dat[non_categorical])\n",
        "  return dat"
      ]
    },
    {
      "cell_type": "markdown",
      "metadata": {
        "id": "DSxEm_MN4h--"
      },
      "source": [
        "### PCA"
      ]
    },
    {
      "cell_type": "code",
      "execution_count": 85,
      "metadata": {
        "id": "wb4MTLk64gse"
      },
      "outputs": [],
      "source": [
        "# Principal component analysis \n",
        "def pca_fn(components, dat):\n",
        "  pca = PCA(n_components = components)\n",
        "  pca.fit(dat)\n",
        "  pca_samples = pca.transform(dat)\n",
        "  return pca_samples"
      ]
    },
    {
      "cell_type": "markdown",
      "metadata": {
        "id": "N6nsWxqpSedS"
      },
      "source": [
        "###Data correlation after preprocessing"
      ]
    },
    {
      "cell_type": "code",
      "execution_count": 86,
      "metadata": {
        "colab": {
          "base_uri": "https://localhost:8080/",
          "height": 578
        },
        "id": "oR2tQLLpSdWF",
        "outputId": "5493d219-acf5-466e-ba53-8dfda6bfacee"
      },
      "outputs": [
        {
          "name": "stdout",
          "output_type": "stream",
          "text": [
            "Correlation of features with target variable\n"
          ]
        },
        {
          "data": {
            "application/vnd.plotly.v1+json": {
              "config": {
                "linkText": "Export to plot.ly",
                "plotlyServerURL": "https://plot.ly",
                "showLink": true
              },
              "data": [
                {
                  "marker": {
                    "color": "rgba(255, 153, 51, 0.6)",
                    "line": {
                      "color": "rgba(255, 153, 51, 1.0)",
                      "width": 1
                    }
                  },
                  "name": "cardio",
                  "orientation": "h",
                  "text": "",
                  "type": "bar",
                  "x": [
                    -0.20535413330187974,
                    -0.09150904089427092,
                    -0.037385622232650136,
                    -0.0163037266553983,
                    -0.008041312216138085,
                    -0.007257557586477173,
                    0.05289206159069625,
                    0.07104110910718543,
                    0.08028431037463399,
                    0.18817846033152394,
                    0.19289963849653635,
                    0.23957563945994997,
                    0.3346437835055997,
                    0.4251524117854923
                  ],
                  "y": [
                    "cholesterol_normal",
                    "gluc_normal",
                    "active",
                    "smoke",
                    "alco",
                    "gender",
                    "gluc_aboveNormal",
                    "gluc_wellAboveNormal",
                    "cholesterol_aboveNormal",
                    "BMI",
                    "cholesterol_wellAboveNormal",
                    "age",
                    "ap_lo",
                    "ap_hi"
                  ]
                }
              ],
              "layout": {
                "legend": {
                  "bgcolor": "#F5F6F9",
                  "font": {
                    "color": "#4D5663"
                  }
                },
                "paper_bgcolor": "#F5F6F9",
                "plot_bgcolor": "#F5F6F9",
                "template": {
                  "data": {
                    "bar": [
                      {
                        "error_x": {
                          "color": "#2a3f5f"
                        },
                        "error_y": {
                          "color": "#2a3f5f"
                        },
                        "marker": {
                          "line": {
                            "color": "#E5ECF6",
                            "width": 0.5
                          },
                          "pattern": {
                            "fillmode": "overlay",
                            "size": 10,
                            "solidity": 0.2
                          }
                        },
                        "type": "bar"
                      }
                    ],
                    "barpolar": [
                      {
                        "marker": {
                          "line": {
                            "color": "#E5ECF6",
                            "width": 0.5
                          },
                          "pattern": {
                            "fillmode": "overlay",
                            "size": 10,
                            "solidity": 0.2
                          }
                        },
                        "type": "barpolar"
                      }
                    ],
                    "carpet": [
                      {
                        "aaxis": {
                          "endlinecolor": "#2a3f5f",
                          "gridcolor": "white",
                          "linecolor": "white",
                          "minorgridcolor": "white",
                          "startlinecolor": "#2a3f5f"
                        },
                        "baxis": {
                          "endlinecolor": "#2a3f5f",
                          "gridcolor": "white",
                          "linecolor": "white",
                          "minorgridcolor": "white",
                          "startlinecolor": "#2a3f5f"
                        },
                        "type": "carpet"
                      }
                    ],
                    "choropleth": [
                      {
                        "colorbar": {
                          "outlinewidth": 0,
                          "ticks": ""
                        },
                        "type": "choropleth"
                      }
                    ],
                    "contour": [
                      {
                        "colorbar": {
                          "outlinewidth": 0,
                          "ticks": ""
                        },
                        "colorscale": [
                          [
                            0,
                            "#0d0887"
                          ],
                          [
                            0.1111111111111111,
                            "#46039f"
                          ],
                          [
                            0.2222222222222222,
                            "#7201a8"
                          ],
                          [
                            0.3333333333333333,
                            "#9c179e"
                          ],
                          [
                            0.4444444444444444,
                            "#bd3786"
                          ],
                          [
                            0.5555555555555556,
                            "#d8576b"
                          ],
                          [
                            0.6666666666666666,
                            "#ed7953"
                          ],
                          [
                            0.7777777777777778,
                            "#fb9f3a"
                          ],
                          [
                            0.8888888888888888,
                            "#fdca26"
                          ],
                          [
                            1,
                            "#f0f921"
                          ]
                        ],
                        "type": "contour"
                      }
                    ],
                    "contourcarpet": [
                      {
                        "colorbar": {
                          "outlinewidth": 0,
                          "ticks": ""
                        },
                        "type": "contourcarpet"
                      }
                    ],
                    "heatmap": [
                      {
                        "colorbar": {
                          "outlinewidth": 0,
                          "ticks": ""
                        },
                        "colorscale": [
                          [
                            0,
                            "#0d0887"
                          ],
                          [
                            0.1111111111111111,
                            "#46039f"
                          ],
                          [
                            0.2222222222222222,
                            "#7201a8"
                          ],
                          [
                            0.3333333333333333,
                            "#9c179e"
                          ],
                          [
                            0.4444444444444444,
                            "#bd3786"
                          ],
                          [
                            0.5555555555555556,
                            "#d8576b"
                          ],
                          [
                            0.6666666666666666,
                            "#ed7953"
                          ],
                          [
                            0.7777777777777778,
                            "#fb9f3a"
                          ],
                          [
                            0.8888888888888888,
                            "#fdca26"
                          ],
                          [
                            1,
                            "#f0f921"
                          ]
                        ],
                        "type": "heatmap"
                      }
                    ],
                    "heatmapgl": [
                      {
                        "colorbar": {
                          "outlinewidth": 0,
                          "ticks": ""
                        },
                        "colorscale": [
                          [
                            0,
                            "#0d0887"
                          ],
                          [
                            0.1111111111111111,
                            "#46039f"
                          ],
                          [
                            0.2222222222222222,
                            "#7201a8"
                          ],
                          [
                            0.3333333333333333,
                            "#9c179e"
                          ],
                          [
                            0.4444444444444444,
                            "#bd3786"
                          ],
                          [
                            0.5555555555555556,
                            "#d8576b"
                          ],
                          [
                            0.6666666666666666,
                            "#ed7953"
                          ],
                          [
                            0.7777777777777778,
                            "#fb9f3a"
                          ],
                          [
                            0.8888888888888888,
                            "#fdca26"
                          ],
                          [
                            1,
                            "#f0f921"
                          ]
                        ],
                        "type": "heatmapgl"
                      }
                    ],
                    "histogram": [
                      {
                        "marker": {
                          "pattern": {
                            "fillmode": "overlay",
                            "size": 10,
                            "solidity": 0.2
                          }
                        },
                        "type": "histogram"
                      }
                    ],
                    "histogram2d": [
                      {
                        "colorbar": {
                          "outlinewidth": 0,
                          "ticks": ""
                        },
                        "colorscale": [
                          [
                            0,
                            "#0d0887"
                          ],
                          [
                            0.1111111111111111,
                            "#46039f"
                          ],
                          [
                            0.2222222222222222,
                            "#7201a8"
                          ],
                          [
                            0.3333333333333333,
                            "#9c179e"
                          ],
                          [
                            0.4444444444444444,
                            "#bd3786"
                          ],
                          [
                            0.5555555555555556,
                            "#d8576b"
                          ],
                          [
                            0.6666666666666666,
                            "#ed7953"
                          ],
                          [
                            0.7777777777777778,
                            "#fb9f3a"
                          ],
                          [
                            0.8888888888888888,
                            "#fdca26"
                          ],
                          [
                            1,
                            "#f0f921"
                          ]
                        ],
                        "type": "histogram2d"
                      }
                    ],
                    "histogram2dcontour": [
                      {
                        "colorbar": {
                          "outlinewidth": 0,
                          "ticks": ""
                        },
                        "colorscale": [
                          [
                            0,
                            "#0d0887"
                          ],
                          [
                            0.1111111111111111,
                            "#46039f"
                          ],
                          [
                            0.2222222222222222,
                            "#7201a8"
                          ],
                          [
                            0.3333333333333333,
                            "#9c179e"
                          ],
                          [
                            0.4444444444444444,
                            "#bd3786"
                          ],
                          [
                            0.5555555555555556,
                            "#d8576b"
                          ],
                          [
                            0.6666666666666666,
                            "#ed7953"
                          ],
                          [
                            0.7777777777777778,
                            "#fb9f3a"
                          ],
                          [
                            0.8888888888888888,
                            "#fdca26"
                          ],
                          [
                            1,
                            "#f0f921"
                          ]
                        ],
                        "type": "histogram2dcontour"
                      }
                    ],
                    "mesh3d": [
                      {
                        "colorbar": {
                          "outlinewidth": 0,
                          "ticks": ""
                        },
                        "type": "mesh3d"
                      }
                    ],
                    "parcoords": [
                      {
                        "line": {
                          "colorbar": {
                            "outlinewidth": 0,
                            "ticks": ""
                          }
                        },
                        "type": "parcoords"
                      }
                    ],
                    "pie": [
                      {
                        "automargin": true,
                        "type": "pie"
                      }
                    ],
                    "scatter": [
                      {
                        "marker": {
                          "colorbar": {
                            "outlinewidth": 0,
                            "ticks": ""
                          }
                        },
                        "type": "scatter"
                      }
                    ],
                    "scatter3d": [
                      {
                        "line": {
                          "colorbar": {
                            "outlinewidth": 0,
                            "ticks": ""
                          }
                        },
                        "marker": {
                          "colorbar": {
                            "outlinewidth": 0,
                            "ticks": ""
                          }
                        },
                        "type": "scatter3d"
                      }
                    ],
                    "scattercarpet": [
                      {
                        "marker": {
                          "colorbar": {
                            "outlinewidth": 0,
                            "ticks": ""
                          }
                        },
                        "type": "scattercarpet"
                      }
                    ],
                    "scattergeo": [
                      {
                        "marker": {
                          "colorbar": {
                            "outlinewidth": 0,
                            "ticks": ""
                          }
                        },
                        "type": "scattergeo"
                      }
                    ],
                    "scattergl": [
                      {
                        "marker": {
                          "colorbar": {
                            "outlinewidth": 0,
                            "ticks": ""
                          }
                        },
                        "type": "scattergl"
                      }
                    ],
                    "scattermapbox": [
                      {
                        "marker": {
                          "colorbar": {
                            "outlinewidth": 0,
                            "ticks": ""
                          }
                        },
                        "type": "scattermapbox"
                      }
                    ],
                    "scatterpolar": [
                      {
                        "marker": {
                          "colorbar": {
                            "outlinewidth": 0,
                            "ticks": ""
                          }
                        },
                        "type": "scatterpolar"
                      }
                    ],
                    "scatterpolargl": [
                      {
                        "marker": {
                          "colorbar": {
                            "outlinewidth": 0,
                            "ticks": ""
                          }
                        },
                        "type": "scatterpolargl"
                      }
                    ],
                    "scatterternary": [
                      {
                        "marker": {
                          "colorbar": {
                            "outlinewidth": 0,
                            "ticks": ""
                          }
                        },
                        "type": "scatterternary"
                      }
                    ],
                    "surface": [
                      {
                        "colorbar": {
                          "outlinewidth": 0,
                          "ticks": ""
                        },
                        "colorscale": [
                          [
                            0,
                            "#0d0887"
                          ],
                          [
                            0.1111111111111111,
                            "#46039f"
                          ],
                          [
                            0.2222222222222222,
                            "#7201a8"
                          ],
                          [
                            0.3333333333333333,
                            "#9c179e"
                          ],
                          [
                            0.4444444444444444,
                            "#bd3786"
                          ],
                          [
                            0.5555555555555556,
                            "#d8576b"
                          ],
                          [
                            0.6666666666666666,
                            "#ed7953"
                          ],
                          [
                            0.7777777777777778,
                            "#fb9f3a"
                          ],
                          [
                            0.8888888888888888,
                            "#fdca26"
                          ],
                          [
                            1,
                            "#f0f921"
                          ]
                        ],
                        "type": "surface"
                      }
                    ],
                    "table": [
                      {
                        "cells": {
                          "fill": {
                            "color": "#EBF0F8"
                          },
                          "line": {
                            "color": "white"
                          }
                        },
                        "header": {
                          "fill": {
                            "color": "#C8D4E3"
                          },
                          "line": {
                            "color": "white"
                          }
                        },
                        "type": "table"
                      }
                    ]
                  },
                  "layout": {
                    "annotationdefaults": {
                      "arrowcolor": "#2a3f5f",
                      "arrowhead": 0,
                      "arrowwidth": 1
                    },
                    "autotypenumbers": "strict",
                    "coloraxis": {
                      "colorbar": {
                        "outlinewidth": 0,
                        "ticks": ""
                      }
                    },
                    "colorscale": {
                      "diverging": [
                        [
                          0,
                          "#8e0152"
                        ],
                        [
                          0.1,
                          "#c51b7d"
                        ],
                        [
                          0.2,
                          "#de77ae"
                        ],
                        [
                          0.3,
                          "#f1b6da"
                        ],
                        [
                          0.4,
                          "#fde0ef"
                        ],
                        [
                          0.5,
                          "#f7f7f7"
                        ],
                        [
                          0.6,
                          "#e6f5d0"
                        ],
                        [
                          0.7,
                          "#b8e186"
                        ],
                        [
                          0.8,
                          "#7fbc41"
                        ],
                        [
                          0.9,
                          "#4d9221"
                        ],
                        [
                          1,
                          "#276419"
                        ]
                      ],
                      "sequential": [
                        [
                          0,
                          "#0d0887"
                        ],
                        [
                          0.1111111111111111,
                          "#46039f"
                        ],
                        [
                          0.2222222222222222,
                          "#7201a8"
                        ],
                        [
                          0.3333333333333333,
                          "#9c179e"
                        ],
                        [
                          0.4444444444444444,
                          "#bd3786"
                        ],
                        [
                          0.5555555555555556,
                          "#d8576b"
                        ],
                        [
                          0.6666666666666666,
                          "#ed7953"
                        ],
                        [
                          0.7777777777777778,
                          "#fb9f3a"
                        ],
                        [
                          0.8888888888888888,
                          "#fdca26"
                        ],
                        [
                          1,
                          "#f0f921"
                        ]
                      ],
                      "sequentialminus": [
                        [
                          0,
                          "#0d0887"
                        ],
                        [
                          0.1111111111111111,
                          "#46039f"
                        ],
                        [
                          0.2222222222222222,
                          "#7201a8"
                        ],
                        [
                          0.3333333333333333,
                          "#9c179e"
                        ],
                        [
                          0.4444444444444444,
                          "#bd3786"
                        ],
                        [
                          0.5555555555555556,
                          "#d8576b"
                        ],
                        [
                          0.6666666666666666,
                          "#ed7953"
                        ],
                        [
                          0.7777777777777778,
                          "#fb9f3a"
                        ],
                        [
                          0.8888888888888888,
                          "#fdca26"
                        ],
                        [
                          1,
                          "#f0f921"
                        ]
                      ]
                    },
                    "colorway": [
                      "#636efa",
                      "#EF553B",
                      "#00cc96",
                      "#ab63fa",
                      "#FFA15A",
                      "#19d3f3",
                      "#FF6692",
                      "#B6E880",
                      "#FF97FF",
                      "#FECB52"
                    ],
                    "font": {
                      "color": "#2a3f5f"
                    },
                    "geo": {
                      "bgcolor": "white",
                      "lakecolor": "white",
                      "landcolor": "#E5ECF6",
                      "showlakes": true,
                      "showland": true,
                      "subunitcolor": "white"
                    },
                    "hoverlabel": {
                      "align": "left"
                    },
                    "hovermode": "closest",
                    "mapbox": {
                      "style": "light"
                    },
                    "paper_bgcolor": "white",
                    "plot_bgcolor": "#E5ECF6",
                    "polar": {
                      "angularaxis": {
                        "gridcolor": "white",
                        "linecolor": "white",
                        "ticks": ""
                      },
                      "bgcolor": "#E5ECF6",
                      "radialaxis": {
                        "gridcolor": "white",
                        "linecolor": "white",
                        "ticks": ""
                      }
                    },
                    "scene": {
                      "xaxis": {
                        "backgroundcolor": "#E5ECF6",
                        "gridcolor": "white",
                        "gridwidth": 2,
                        "linecolor": "white",
                        "showbackground": true,
                        "ticks": "",
                        "zerolinecolor": "white"
                      },
                      "yaxis": {
                        "backgroundcolor": "#E5ECF6",
                        "gridcolor": "white",
                        "gridwidth": 2,
                        "linecolor": "white",
                        "showbackground": true,
                        "ticks": "",
                        "zerolinecolor": "white"
                      },
                      "zaxis": {
                        "backgroundcolor": "#E5ECF6",
                        "gridcolor": "white",
                        "gridwidth": 2,
                        "linecolor": "white",
                        "showbackground": true,
                        "ticks": "",
                        "zerolinecolor": "white"
                      }
                    },
                    "shapedefaults": {
                      "line": {
                        "color": "#2a3f5f"
                      }
                    },
                    "ternary": {
                      "aaxis": {
                        "gridcolor": "white",
                        "linecolor": "white",
                        "ticks": ""
                      },
                      "baxis": {
                        "gridcolor": "white",
                        "linecolor": "white",
                        "ticks": ""
                      },
                      "bgcolor": "#E5ECF6",
                      "caxis": {
                        "gridcolor": "white",
                        "linecolor": "white",
                        "ticks": ""
                      }
                    },
                    "title": {
                      "x": 0.05
                    },
                    "xaxis": {
                      "automargin": true,
                      "gridcolor": "white",
                      "linecolor": "white",
                      "ticks": "",
                      "title": {
                        "standoff": 15
                      },
                      "zerolinecolor": "white",
                      "zerolinewidth": 2
                    },
                    "yaxis": {
                      "automargin": true,
                      "gridcolor": "white",
                      "linecolor": "white",
                      "ticks": "",
                      "title": {
                        "standoff": 15
                      },
                      "zerolinecolor": "white",
                      "zerolinewidth": 2
                    }
                  }
                },
                "title": {
                  "font": {
                    "color": "#4D5663"
                  }
                },
                "xaxis": {
                  "gridcolor": "#E1E5ED",
                  "showgrid": true,
                  "tickfont": {
                    "color": "#4D5663"
                  },
                  "title": {
                    "font": {
                      "color": "#4D5663"
                    },
                    "text": ""
                  },
                  "zerolinecolor": "#E1E5ED"
                },
                "yaxis": {
                  "gridcolor": "#E1E5ED",
                  "showgrid": true,
                  "tickfont": {
                    "color": "#4D5663"
                  },
                  "title": {
                    "font": {
                      "color": "#4D5663"
                    },
                    "text": ""
                  },
                  "zerolinecolor": "#E1E5ED"
                }
              }
            },
            "text/html": [
              "<div>                            <div id=\"465720e3-5317-4e5b-9d76-7dda9e64c215\" class=\"plotly-graph-div\" style=\"height:525px; width:100%;\"></div>            <script type=\"text/javascript\">                require([\"plotly\"], function(Plotly) {                    window.PLOTLYENV=window.PLOTLYENV || {};\n",
              "                    window.PLOTLYENV.BASE_URL='https://plot.ly';                                    if (document.getElementById(\"465720e3-5317-4e5b-9d76-7dda9e64c215\")) {                    Plotly.newPlot(                        \"465720e3-5317-4e5b-9d76-7dda9e64c215\",                        [{\"marker\":{\"color\":\"rgba(255, 153, 51, 0.6)\",\"line\":{\"color\":\"rgba(255, 153, 51, 1.0)\",\"width\":1}},\"name\":\"cardio\",\"orientation\":\"h\",\"text\":\"\",\"x\":[-0.20535413330187974,-0.09150904089427092,-0.037385622232650136,-0.0163037266553983,-0.008041312216138085,-0.007257557586477173,0.05289206159069625,0.07104110910718543,0.08028431037463399,0.18817846033152394,0.19289963849653635,0.23957563945994997,0.3346437835055997,0.4251524117854923],\"y\":[\"cholesterol_normal\",\"gluc_normal\",\"active\",\"smoke\",\"alco\",\"gender\",\"gluc_aboveNormal\",\"gluc_wellAboveNormal\",\"cholesterol_aboveNormal\",\"BMI\",\"cholesterol_wellAboveNormal\",\"age\",\"ap_lo\",\"ap_hi\"],\"type\":\"bar\"}],                        {\"legend\":{\"bgcolor\":\"#F5F6F9\",\"font\":{\"color\":\"#4D5663\"}},\"paper_bgcolor\":\"#F5F6F9\",\"plot_bgcolor\":\"#F5F6F9\",\"template\":{\"data\":{\"barpolar\":[{\"marker\":{\"line\":{\"color\":\"#E5ECF6\",\"width\":0.5},\"pattern\":{\"fillmode\":\"overlay\",\"size\":10,\"solidity\":0.2}},\"type\":\"barpolar\"}],\"bar\":[{\"error_x\":{\"color\":\"#2a3f5f\"},\"error_y\":{\"color\":\"#2a3f5f\"},\"marker\":{\"line\":{\"color\":\"#E5ECF6\",\"width\":0.5},\"pattern\":{\"fillmode\":\"overlay\",\"size\":10,\"solidity\":0.2}},\"type\":\"bar\"}],\"carpet\":[{\"aaxis\":{\"endlinecolor\":\"#2a3f5f\",\"gridcolor\":\"white\",\"linecolor\":\"white\",\"minorgridcolor\":\"white\",\"startlinecolor\":\"#2a3f5f\"},\"baxis\":{\"endlinecolor\":\"#2a3f5f\",\"gridcolor\":\"white\",\"linecolor\":\"white\",\"minorgridcolor\":\"white\",\"startlinecolor\":\"#2a3f5f\"},\"type\":\"carpet\"}],\"choropleth\":[{\"colorbar\":{\"outlinewidth\":0,\"ticks\":\"\"},\"type\":\"choropleth\"}],\"contourcarpet\":[{\"colorbar\":{\"outlinewidth\":0,\"ticks\":\"\"},\"type\":\"contourcarpet\"}],\"contour\":[{\"colorbar\":{\"outlinewidth\":0,\"ticks\":\"\"},\"colorscale\":[[0.0,\"#0d0887\"],[0.1111111111111111,\"#46039f\"],[0.2222222222222222,\"#7201a8\"],[0.3333333333333333,\"#9c179e\"],[0.4444444444444444,\"#bd3786\"],[0.5555555555555556,\"#d8576b\"],[0.6666666666666666,\"#ed7953\"],[0.7777777777777778,\"#fb9f3a\"],[0.8888888888888888,\"#fdca26\"],[1.0,\"#f0f921\"]],\"type\":\"contour\"}],\"heatmapgl\":[{\"colorbar\":{\"outlinewidth\":0,\"ticks\":\"\"},\"colorscale\":[[0.0,\"#0d0887\"],[0.1111111111111111,\"#46039f\"],[0.2222222222222222,\"#7201a8\"],[0.3333333333333333,\"#9c179e\"],[0.4444444444444444,\"#bd3786\"],[0.5555555555555556,\"#d8576b\"],[0.6666666666666666,\"#ed7953\"],[0.7777777777777778,\"#fb9f3a\"],[0.8888888888888888,\"#fdca26\"],[1.0,\"#f0f921\"]],\"type\":\"heatmapgl\"}],\"heatmap\":[{\"colorbar\":{\"outlinewidth\":0,\"ticks\":\"\"},\"colorscale\":[[0.0,\"#0d0887\"],[0.1111111111111111,\"#46039f\"],[0.2222222222222222,\"#7201a8\"],[0.3333333333333333,\"#9c179e\"],[0.4444444444444444,\"#bd3786\"],[0.5555555555555556,\"#d8576b\"],[0.6666666666666666,\"#ed7953\"],[0.7777777777777778,\"#fb9f3a\"],[0.8888888888888888,\"#fdca26\"],[1.0,\"#f0f921\"]],\"type\":\"heatmap\"}],\"histogram2dcontour\":[{\"colorbar\":{\"outlinewidth\":0,\"ticks\":\"\"},\"colorscale\":[[0.0,\"#0d0887\"],[0.1111111111111111,\"#46039f\"],[0.2222222222222222,\"#7201a8\"],[0.3333333333333333,\"#9c179e\"],[0.4444444444444444,\"#bd3786\"],[0.5555555555555556,\"#d8576b\"],[0.6666666666666666,\"#ed7953\"],[0.7777777777777778,\"#fb9f3a\"],[0.8888888888888888,\"#fdca26\"],[1.0,\"#f0f921\"]],\"type\":\"histogram2dcontour\"}],\"histogram2d\":[{\"colorbar\":{\"outlinewidth\":0,\"ticks\":\"\"},\"colorscale\":[[0.0,\"#0d0887\"],[0.1111111111111111,\"#46039f\"],[0.2222222222222222,\"#7201a8\"],[0.3333333333333333,\"#9c179e\"],[0.4444444444444444,\"#bd3786\"],[0.5555555555555556,\"#d8576b\"],[0.6666666666666666,\"#ed7953\"],[0.7777777777777778,\"#fb9f3a\"],[0.8888888888888888,\"#fdca26\"],[1.0,\"#f0f921\"]],\"type\":\"histogram2d\"}],\"histogram\":[{\"marker\":{\"pattern\":{\"fillmode\":\"overlay\",\"size\":10,\"solidity\":0.2}},\"type\":\"histogram\"}],\"mesh3d\":[{\"colorbar\":{\"outlinewidth\":0,\"ticks\":\"\"},\"type\":\"mesh3d\"}],\"parcoords\":[{\"line\":{\"colorbar\":{\"outlinewidth\":0,\"ticks\":\"\"}},\"type\":\"parcoords\"}],\"pie\":[{\"automargin\":true,\"type\":\"pie\"}],\"scatter3d\":[{\"line\":{\"colorbar\":{\"outlinewidth\":0,\"ticks\":\"\"}},\"marker\":{\"colorbar\":{\"outlinewidth\":0,\"ticks\":\"\"}},\"type\":\"scatter3d\"}],\"scattercarpet\":[{\"marker\":{\"colorbar\":{\"outlinewidth\":0,\"ticks\":\"\"}},\"type\":\"scattercarpet\"}],\"scattergeo\":[{\"marker\":{\"colorbar\":{\"outlinewidth\":0,\"ticks\":\"\"}},\"type\":\"scattergeo\"}],\"scattergl\":[{\"marker\":{\"colorbar\":{\"outlinewidth\":0,\"ticks\":\"\"}},\"type\":\"scattergl\"}],\"scattermapbox\":[{\"marker\":{\"colorbar\":{\"outlinewidth\":0,\"ticks\":\"\"}},\"type\":\"scattermapbox\"}],\"scatterpolargl\":[{\"marker\":{\"colorbar\":{\"outlinewidth\":0,\"ticks\":\"\"}},\"type\":\"scatterpolargl\"}],\"scatterpolar\":[{\"marker\":{\"colorbar\":{\"outlinewidth\":0,\"ticks\":\"\"}},\"type\":\"scatterpolar\"}],\"scatter\":[{\"marker\":{\"colorbar\":{\"outlinewidth\":0,\"ticks\":\"\"}},\"type\":\"scatter\"}],\"scatterternary\":[{\"marker\":{\"colorbar\":{\"outlinewidth\":0,\"ticks\":\"\"}},\"type\":\"scatterternary\"}],\"surface\":[{\"colorbar\":{\"outlinewidth\":0,\"ticks\":\"\"},\"colorscale\":[[0.0,\"#0d0887\"],[0.1111111111111111,\"#46039f\"],[0.2222222222222222,\"#7201a8\"],[0.3333333333333333,\"#9c179e\"],[0.4444444444444444,\"#bd3786\"],[0.5555555555555556,\"#d8576b\"],[0.6666666666666666,\"#ed7953\"],[0.7777777777777778,\"#fb9f3a\"],[0.8888888888888888,\"#fdca26\"],[1.0,\"#f0f921\"]],\"type\":\"surface\"}],\"table\":[{\"cells\":{\"fill\":{\"color\":\"#EBF0F8\"},\"line\":{\"color\":\"white\"}},\"header\":{\"fill\":{\"color\":\"#C8D4E3\"},\"line\":{\"color\":\"white\"}},\"type\":\"table\"}]},\"layout\":{\"annotationdefaults\":{\"arrowcolor\":\"#2a3f5f\",\"arrowhead\":0,\"arrowwidth\":1},\"autotypenumbers\":\"strict\",\"coloraxis\":{\"colorbar\":{\"outlinewidth\":0,\"ticks\":\"\"}},\"colorscale\":{\"diverging\":[[0,\"#8e0152\"],[0.1,\"#c51b7d\"],[0.2,\"#de77ae\"],[0.3,\"#f1b6da\"],[0.4,\"#fde0ef\"],[0.5,\"#f7f7f7\"],[0.6,\"#e6f5d0\"],[0.7,\"#b8e186\"],[0.8,\"#7fbc41\"],[0.9,\"#4d9221\"],[1,\"#276419\"]],\"sequential\":[[0.0,\"#0d0887\"],[0.1111111111111111,\"#46039f\"],[0.2222222222222222,\"#7201a8\"],[0.3333333333333333,\"#9c179e\"],[0.4444444444444444,\"#bd3786\"],[0.5555555555555556,\"#d8576b\"],[0.6666666666666666,\"#ed7953\"],[0.7777777777777778,\"#fb9f3a\"],[0.8888888888888888,\"#fdca26\"],[1.0,\"#f0f921\"]],\"sequentialminus\":[[0.0,\"#0d0887\"],[0.1111111111111111,\"#46039f\"],[0.2222222222222222,\"#7201a8\"],[0.3333333333333333,\"#9c179e\"],[0.4444444444444444,\"#bd3786\"],[0.5555555555555556,\"#d8576b\"],[0.6666666666666666,\"#ed7953\"],[0.7777777777777778,\"#fb9f3a\"],[0.8888888888888888,\"#fdca26\"],[1.0,\"#f0f921\"]]},\"colorway\":[\"#636efa\",\"#EF553B\",\"#00cc96\",\"#ab63fa\",\"#FFA15A\",\"#19d3f3\",\"#FF6692\",\"#B6E880\",\"#FF97FF\",\"#FECB52\"],\"font\":{\"color\":\"#2a3f5f\"},\"geo\":{\"bgcolor\":\"white\",\"lakecolor\":\"white\",\"landcolor\":\"#E5ECF6\",\"showlakes\":true,\"showland\":true,\"subunitcolor\":\"white\"},\"hoverlabel\":{\"align\":\"left\"},\"hovermode\":\"closest\",\"mapbox\":{\"style\":\"light\"},\"paper_bgcolor\":\"white\",\"plot_bgcolor\":\"#E5ECF6\",\"polar\":{\"angularaxis\":{\"gridcolor\":\"white\",\"linecolor\":\"white\",\"ticks\":\"\"},\"bgcolor\":\"#E5ECF6\",\"radialaxis\":{\"gridcolor\":\"white\",\"linecolor\":\"white\",\"ticks\":\"\"}},\"scene\":{\"xaxis\":{\"backgroundcolor\":\"#E5ECF6\",\"gridcolor\":\"white\",\"gridwidth\":2,\"linecolor\":\"white\",\"showbackground\":true,\"ticks\":\"\",\"zerolinecolor\":\"white\"},\"yaxis\":{\"backgroundcolor\":\"#E5ECF6\",\"gridcolor\":\"white\",\"gridwidth\":2,\"linecolor\":\"white\",\"showbackground\":true,\"ticks\":\"\",\"zerolinecolor\":\"white\"},\"zaxis\":{\"backgroundcolor\":\"#E5ECF6\",\"gridcolor\":\"white\",\"gridwidth\":2,\"linecolor\":\"white\",\"showbackground\":true,\"ticks\":\"\",\"zerolinecolor\":\"white\"}},\"shapedefaults\":{\"line\":{\"color\":\"#2a3f5f\"}},\"ternary\":{\"aaxis\":{\"gridcolor\":\"white\",\"linecolor\":\"white\",\"ticks\":\"\"},\"baxis\":{\"gridcolor\":\"white\",\"linecolor\":\"white\",\"ticks\":\"\"},\"bgcolor\":\"#E5ECF6\",\"caxis\":{\"gridcolor\":\"white\",\"linecolor\":\"white\",\"ticks\":\"\"}},\"title\":{\"x\":0.05},\"xaxis\":{\"automargin\":true,\"gridcolor\":\"white\",\"linecolor\":\"white\",\"ticks\":\"\",\"title\":{\"standoff\":15},\"zerolinecolor\":\"white\",\"zerolinewidth\":2},\"yaxis\":{\"automargin\":true,\"gridcolor\":\"white\",\"linecolor\":\"white\",\"ticks\":\"\",\"title\":{\"standoff\":15},\"zerolinecolor\":\"white\",\"zerolinewidth\":2}}},\"title\":{\"font\":{\"color\":\"#4D5663\"}},\"xaxis\":{\"gridcolor\":\"#E1E5ED\",\"showgrid\":true,\"tickfont\":{\"color\":\"#4D5663\"},\"title\":{\"font\":{\"color\":\"#4D5663\"},\"text\":\"\"},\"zerolinecolor\":\"#E1E5ED\"},\"yaxis\":{\"gridcolor\":\"#E1E5ED\",\"showgrid\":true,\"tickfont\":{\"color\":\"#4D5663\"},\"title\":{\"font\":{\"color\":\"#4D5663\"},\"text\":\"\"},\"zerolinecolor\":\"#E1E5ED\"}},                        {\"showLink\": true, \"linkText\": \"Export to plot.ly\", \"plotlyServerURL\": \"https://plot.ly\", \"responsive\": true}                    ).then(function(){\n",
              "                            \n",
              "var gd = document.getElementById('465720e3-5317-4e5b-9d76-7dda9e64c215');\n",
              "var x = new MutationObserver(function (mutations, observer) {{\n",
              "        var display = window.getComputedStyle(gd).display;\n",
              "        if (!display || display === 'none') {{\n",
              "            console.log([gd, 'removed!']);\n",
              "            Plotly.purge(gd);\n",
              "            observer.disconnect();\n",
              "        }}\n",
              "}});\n",
              "\n",
              "// Listen for the removal of the full notebook cells\n",
              "var notebookContainer = gd.closest('#notebook-container');\n",
              "if (notebookContainer) {{\n",
              "    x.observe(notebookContainer, {childList: true});\n",
              "}}\n",
              "\n",
              "// Listen for the clearing of the current output cell\n",
              "var outputEl = gd.closest('.output');\n",
              "if (outputEl) {{\n",
              "    x.observe(outputEl, {childList: true});\n",
              "}}\n",
              "\n",
              "                        })                };                });            </script>        </div>"
            ]
          },
          "metadata": {},
          "output_type": "display_data"
        },
        {
          "data": {
            "text/plain": [
              "<Figure size 432x288 with 0 Axes>"
            ]
          },
          "metadata": {},
          "output_type": "display_data"
        }
      ],
      "source": [
        "print('Correlation of features with target variable')\n",
        "data.corr()['cardio'].sort_values()[:-1].iplot(kind='barh');\n",
        "plt.draw()"
      ]
    },
    {
      "cell_type": "markdown",
      "metadata": {
        "id": "ldjwwXDnPiC2"
      },
      "source": [
        "![corrAfter.png](data:image/png;base64,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)"
      ]
    },
    {
      "cell_type": "markdown",
      "metadata": {
        "id": "yKnk2RHYhbEd"
      },
      "source": [
        "## Training"
      ]
    },
    {
      "cell_type": "markdown",
      "metadata": {
        "id": "go4imaaPqleH"
      },
      "source": [
        "### Train-Test Split"
      ]
    },
    {
      "cell_type": "code",
      "execution_count": 87,
      "metadata": {
        "id": "DpXhAyyUhW_B"
      },
      "outputs": [],
      "source": [
        "# Fetch Target varaible\n",
        "target = data['cardio']\n",
        "data_copy = data\n",
        "# Feature variables \n",
        "data = data.drop(['cardio'], axis=1)\n"
      ]
    },
    {
      "cell_type": "code",
      "execution_count": 88,
      "metadata": {
        "id": "cixHbPE5gvLT"
      },
      "outputs": [],
      "source": [
        "# Split the data\n",
        "# Split function takes features and target fata and return X_train, X_test, y_train, y_test data\n",
        "def split_data(xData, yData):\n",
        "  X_train, X_test, y_train, y_test = train_test_split(xData, yData, test_size=0.25, random_state=0)\n",
        "  return X_train, X_test, y_train, y_test"
      ]
    },
    {
      "cell_type": "markdown",
      "metadata": {
        "id": "UwIZbu4O9_UL"
      },
      "source": [
        "### Classification"
      ]
    },
    {
      "cell_type": "code",
      "execution_count": 89,
      "metadata": {
        "id": "NiXKHQaf3vz7"
      },
      "outputs": [],
      "source": [
        "# classification_models function takes train and test data and return accuracies of the models\n",
        "def classification_models(X_train, X_test, y_train, y_test):\n",
        "  # define classification models\n",
        "  classifiers = {\n",
        "      'Logistic Regression' : LogisticRegression(),\n",
        "      'Decision Tree' : DecisionTreeClassifier(),\n",
        "      'Random Forest' : RandomForestClassifier(),\n",
        "      'Support Vector Machines' : LinearSVC(),\n",
        "      'K-nearest Neighbors' : KNeighborsClassifier(),\n",
        "      'Naive Bayes': GaussianNB()\n",
        "  }\n",
        "  results=pd.DataFrame(columns=['Accuracy in %','F1-score'])\n",
        "  #  loop through classifications models -> train each model, fit the model  then  record accuracy \n",
        "  for method,func in classifiers.items():\n",
        "      func.fit(X_train,y_train)\n",
        "      pred = func.predict(X_test)\n",
        "      results.loc[method]= [100*np.round(accuracy_score(y_test,pred),decimals=4),np.round(f1_score(y_test,pred),2)]\n",
        "  return results"
      ]
    },
    {
      "cell_type": "code",
      "execution_count": 104,
      "metadata": {
        "colab": {
          "base_uri": "https://localhost:8080/"
        },
        "id": "faAfgJLHWIfA",
        "outputId": "498bd799-c2dc-4c59-f1c7-8da2569929f7"
      },
      "outputs": [
        {
          "name": "stdout",
          "output_type": "stream",
          "text": [
            "                         Accuracy in %  F1-score\n",
            "Logistic Regression              71.82      0.70\n",
            "Decision Tree                    62.72      0.63\n",
            "Random Forest                    69.93      0.70\n",
            "Support Vector Machines          52.01      0.68\n",
            "K-nearest Neighbors              68.80      0.68\n",
            "Naive Bayes                      66.92      0.63\n"
          ]
        }
      ],
      "source": [
        "# Classification without PCA or data scaling\n",
        "X_train, X_test, y_train, y_test = split_data(data, target)\n",
        "print(classification_models(X_train, X_test, y_train, y_test))"
      ]
    },
    {
      "cell_type": "markdown",
      "metadata": {
        "id": "oZJInmJFXkKE"
      },
      "source": [
        "## Enhancements"
      ]
    },
    {
      "cell_type": "markdown",
      "metadata": {
        "id": "3VKhitnkX5-G"
      },
      "source": [
        "### Preprocissing enhancements"
      ]
    },
    {
      "cell_type": "markdown",
      "metadata": {
        "id": "YEQrqINRWM8t"
      },
      "source": [
        "#### Classification models without data scaling to choose PCA number of components"
      ]
    },
    {
      "cell_type": "code",
      "execution_count": 105,
      "metadata": {
        "colab": {
          "base_uri": "https://localhost:8080/"
        },
        "id": "K_lv5cErDqIK",
        "outputId": "c6d997f7-d1ef-4f68-bea2-2c8c2c09e6d1"
      },
      "outputs": [
        {
          "name": "stdout",
          "output_type": "stream",
          "text": [
            "Number of components =  0.95\n",
            "                         Accuracy in %  F1-score\n",
            "Logistic Regression              71.39      0.70\n",
            "Decision Tree                    62.34      0.62\n",
            "Random Forest                    67.62      0.67\n",
            "Support Vector Machines          71.49      0.70\n",
            "K-nearest Neighbors              67.81      0.68\n",
            "Naive Bayes                      69.46      0.65\n",
            "Number of components =  2\n",
            "                         Accuracy in %  F1-score\n",
            "Logistic Regression              71.24      0.69\n",
            "Decision Tree                    62.83      0.63\n",
            "Random Forest                    68.13      0.68\n",
            "Support Vector Machines          71.29      0.69\n",
            "K-nearest Neighbors              68.35      0.68\n",
            "Naive Bayes                      70.30      0.66\n",
            "Number of components =  5\n",
            "                         Accuracy in %  F1-score\n",
            "Logistic Regression              71.50      0.70\n",
            "Decision Tree                    63.22      0.63\n",
            "Random Forest                    69.33      0.69\n",
            "Support Vector Machines          68.12      0.67\n",
            "K-nearest Neighbors              68.36      0.68\n",
            "Naive Bayes                      70.00      0.67\n",
            "Number of components =  7\n",
            "                         Accuracy in %  F1-score\n",
            "Logistic Regression              71.36      0.70\n",
            "Decision Tree                    63.38      0.63\n",
            "Random Forest                    69.70      0.70\n",
            "Support Vector Machines          65.16      0.64\n",
            "K-nearest Neighbors              68.57      0.68\n",
            "Naive Bayes                      69.83      0.67\n"
          ]
        }
      ],
      "source": [
        "target_copy = data_copy['cardio']\n",
        "data_copy_1 = data_copy.drop(['cardio'], axis=1)\n",
        "n_components_arr = [0.95, 2, 5, 7]\n",
        "for i in n_components_arr:\n",
        "  print (\"Number of components = \", i)\n",
        "  samples = pca_fn(i, data_copy_1)\n",
        "  X_train, X_test, y_train, y_test = split_data(samples, target_copy)\n",
        "  print(classification_models(X_train, X_test, y_train, y_test))"
      ]
    },
    {
      "cell_type": "markdown",
      "metadata": {
        "id": "zhMUyaIpKF4a"
      },
      "source": [
        "**The non-normalized data showed the highest accuracy in almost all models with PCA n_components = 5**\n",
        "\n",
        "---\n",
        "\n"
      ]
    },
    {
      "cell_type": "markdown",
      "metadata": {
        "id": "1gm_DX6gLVWg"
      },
      "source": [
        "#### Scale data using MinMaxscaler, StandardScaler, and Normalizer with PCA component = 5"
      ]
    },
    {
      "cell_type": "code",
      "execution_count": 106,
      "metadata": {
        "colab": {
          "base_uri": "https://localhost:8080/"
        },
        "id": "TWAfPiTOKBbd",
        "outputId": "18969738-e157-43d6-d4a0-e48719142cb2"
      },
      "outputs": [
        {
          "name": "stdout",
          "output_type": "stream",
          "text": [
            "Scaler type:  MinMaxScaler\n",
            "                         Accuracy in %  F1-score\n",
            "Logistic Regression              58.84      0.46\n",
            "Decision Tree                    63.01      0.63\n",
            "Random Forest                    69.22      0.69\n",
            "Support Vector Machines          58.90      0.46\n",
            "K-nearest Neighbors              69.49      0.69\n",
            "Naive Bayes                      58.94      0.49\n",
            "Scaler type:  StandardScaler\n",
            "                         Accuracy in %  F1-score\n",
            "Logistic Regression              71.43      0.70\n",
            "Decision Tree                    62.85      0.63\n",
            "Random Forest                    69.19      0.69\n",
            "Support Vector Machines          71.29      0.69\n",
            "K-nearest Neighbors              68.37      0.68\n",
            "Naive Bayes                      69.47      0.67\n",
            "Scaler type:  Normalization\n",
            "                         Accuracy in %  F1-score\n",
            "Logistic Regression              71.61      0.71\n",
            "Decision Tree                    62.88      0.63\n",
            "Random Forest                    69.06      0.69\n",
            "Support Vector Machines          71.58      0.71\n",
            "K-nearest Neighbors              68.62      0.68\n",
            "Naive Bayes                      70.92      0.70\n"
          ]
        }
      ],
      "source": [
        "n_components = 5\n",
        "scaler_target = data_copy['cardio']\n",
        "data_copy_2 = data_copy.drop(['cardio'], axis=1)\n",
        "# Define types of sclaers to choose one of them \n",
        "scaler = {\n",
        "      'MinMaxScaler': MinMaxScaler(),\n",
        "      'StandardScaler': StandardScaler(),\n",
        "      'Normalization' : Normalizer()\n",
        "  }\n",
        "  # Train all models on each type of scalars to get highest Accuracy\n",
        "for method, func in scaler.items():  \n",
        "  print (\"Scaler type: \", method)\n",
        "  data_scaler = data_copy_2\n",
        "  data_scaled = Scaling_fn(data_scaler, func)\n",
        "  trans_data = pca_fn(n_components, data_scaled)\n",
        "  X_train, X_test, y_train, y_test = split_data(trans_data, scaler_target)\n",
        "  print(classification_models(X_train, X_test, y_train, y_test))"
      ]
    },
    {
      "cell_type": "markdown",
      "metadata": {
        "id": "IT1MSTH2eoog"
      },
      "source": [
        "**From previous results, we can see that accuracies of 'StandardScaler' and 'Normalization' are too close so we will choose 'StandardScaler'** \n",
        "\n",
        "---\n",
        "\n"
      ]
    },
    {
      "cell_type": "markdown",
      "metadata": {
        "id": "t6MUBq6C9VnY"
      },
      "source": [
        "#### Accuracies with PCA components = 5 and scaled data\n"
      ]
    },
    {
      "cell_type": "code",
      "execution_count": 107,
      "metadata": {
        "colab": {
          "base_uri": "https://localhost:8080/"
        },
        "id": "L4btiVOb7XCL",
        "outputId": "1314cd4f-dcaf-43ab-b356-06a2f31dc6e6"
      },
      "outputs": [
        {
          "name": "stdout",
          "output_type": "stream",
          "text": [
            "Accuracies before Preprocissing enhancements\n",
            "                         Accuracy in %  F1-score\n",
            "Logistic Regression              71.82      0.70\n",
            "Decision Tree                    62.81      0.63\n",
            "Random Forest                    69.91      0.70\n",
            "Support Vector Machines          51.89      0.10\n",
            "K-nearest Neighbors              68.80      0.68\n",
            "Naive Bayes                      66.92      0.63\n",
            "Accuracies after Preprocissing enhancements\n",
            "                         Accuracy in %  F1-score\n",
            "Logistic Regression              71.43      0.70\n",
            "Decision Tree                    62.77      0.63\n",
            "Random Forest                    69.27      0.69\n",
            "Support Vector Machines          71.29      0.69\n",
            "K-nearest Neighbors              68.37      0.68\n",
            "Naive Bayes                      69.47      0.67\n"
          ]
        }
      ],
      "source": [
        "# Classification without PCA or data scaling \n",
        "X_train, X_test, y_train, y_test = split_data(data, target)\n",
        "print(\"Accuracies before Preprocissing enhancements\")\n",
        "print(classification_models(X_train, X_test, y_train, y_test))\n",
        "\n",
        "\n",
        "n_components = 5\n",
        "scaler = StandardScaler()\n",
        "data_copy_3 = data_copy.drop(['cardio'], axis=1)\n",
        "scaled_data = Scaling_fn(data_copy_3, scaler)\n",
        "Transformed_data = pca_fn(n_components, scaled_data)\n",
        "X_train, X_test, y_train, y_test = split_data(Transformed_data, target_copy)\n",
        "print(\"Accuracies after Preprocissing enhancements\")\n",
        "print(classification_models(X_train, X_test, y_train, y_test))"
      ]
    },
    {
      "cell_type": "markdown",
      "metadata": {
        "id": "AvkhBGbGbqKg"
      },
      "source": [
        "**We found that there is very small reduction in accuracies of Logistic Regression, Random Forest and Random Forest but there is great enhancement in SVM and relatively high enhancement in Naive Bayes. So that is acceptable.**\n",
        "\n",
        "\n",
        "---\n",
        "\n"
      ]
    },
    {
      "cell_type": "markdown",
      "metadata": {
        "id": "OCtEQnGazJAz"
      },
      "source": [
        "### Enhancements by changing hyperparameters "
      ]
    },
    {
      "cell_type": "markdown",
      "metadata": {
        "id": "InBBuxtOgTgo"
      },
      "source": [
        "#### KNN enhancement"
      ]
    },
    {
      "cell_type": "code",
      "execution_count": 108,
      "metadata": {
        "colab": {
          "base_uri": "https://localhost:8080/",
          "height": 404
        },
        "id": "uBzNEryZeVzm",
        "outputId": "8992e7b3-99a0-4cd4-c954-842d22049ca1"
      },
      "outputs": [
        {
          "data": {
            "image/png": "[encoded data removed]",
            "text/plain": [
              "<Figure size 720x432 with 1 Axes>"
            ]
          },
          "metadata": {},
          "output_type": "display_data"
        }
      ],
      "source": [
        "# Choosing proper K by elbow method\n",
        "K = range(1,15)\n",
        "error_rate = []\n",
        "for i in K:\n",
        "    knn = KNeighborsClassifier(n_neighbors=i)\n",
        "    knn.fit(X_train,y_train)\n",
        "    pred_i = knn.predict(X_test)\n",
        "    error_rate.append(np.mean(pred_i != y_test))\n",
        "\n",
        "plt.figure(figsize=(10,6))\n",
        "plt.plot(range(1,15),error_rate,color='blue', linestyle='dashed', marker='o',\n",
        "         markerfacecolor='red', markersize=10)\n",
        "plt.title('Error Rate vs. K Value')\n",
        "plt.xlabel('K')\n",
        "plt.ylabel('Error Rate');"
      ]
    },
    {
      "cell_type": "code",
      "execution_count": 109,
      "metadata": {
        "colab": {
          "base_uri": "https://localhost:8080/"
        },
        "id": "E_2FeZAmffYr",
        "outputId": "09b52a8b-1898-420a-f99a-8510812b6fa0"
      },
      "outputs": [
        {
          "name": "stdout",
          "output_type": "stream",
          "text": [
            "Testing Accuracy 0.7128810798231324\n"
          ]
        }
      ],
      "source": [
        "knn = KNeighborsClassifier(n_neighbors=14)\n",
        "knn.fit(X_train,y_train)\n",
        "knn_pred = knn.predict(X_test)\n",
        "test_accuracy = accuracy_score(y_test, knn_pred)\n",
        "print(\"Testing Accuracy\", test_accuracy)"
      ]
    },
    {
      "cell_type": "markdown",
      "metadata": {
        "id": "xc66T_0oP69G"
      },
      "source": [
        "**Accuracy was 68.37, with k = 14 -> Accuracy = 71.28**\n",
        "\n",
        "---\n",
        "\n"
      ]
    },
    {
      "cell_type": "markdown",
      "metadata": {
        "id": "iYJRL3iRgXFq"
      },
      "source": [
        "#### Tree enhancement"
      ]
    },
    {
      "cell_type": "code",
      "execution_count": 110,
      "metadata": {
        "colab": {
          "base_uri": "https://localhost:8080/"
        },
        "id": "u8RdVisAZE6s",
        "outputId": "b214539f-aaa7-49a6-eaea-45197efeba5c"
      },
      "outputs": [
        {
          "name": "stdout",
          "output_type": "stream",
          "text": [
            "Tuned Decision Tree Parameters: {'max_depth': 5}\n",
            "Best score is 0.7245980466179716\n"
          ]
        }
      ],
      "source": [
        "\n",
        "dep = np.arange(1,9)\n",
        "param_grid = {'max_depth' : dep}\n",
        "\n",
        "# Instantiate a decision tree classifier: clf\n",
        "clf = DecisionTreeClassifier()\n",
        "\n",
        "# Instantiate the GridSearchCV object: clf_cv\n",
        "clf_cv = GridSearchCV(clf, param_grid=param_grid, cv=5)\n",
        "\n",
        "# Fit it to the data\n",
        "clf_cv.fit(X_train,y_train)\n",
        "\n",
        "# Print the tuned parameter and score\n",
        "print(\"Tuned Decision Tree Parameters: {}\".format(clf_cv.best_params_))\n",
        "print(\"Best score is {}\".format(clf_cv.best_score_))"
      ]
    },
    {
      "cell_type": "markdown",
      "metadata": {
        "id": "_3Hbk9hEQmsd"
      },
      "source": [
        "**Decision Tree Accuracy was 62.77, with max depth = 5 -> Accuracy = 72.45%**\n",
        "\n",
        "\n",
        "---\n",
        "\n"
      ]
    },
    {
      "cell_type": "markdown",
      "metadata": {
        "id": "3AvIWIz6gZ70"
      },
      "source": [
        "#### Random Forest enhancement"
      ]
    },
    {
      "cell_type": "code",
      "execution_count": 111,
      "metadata": {
        "colab": {
          "base_uri": "https://localhost:8080/"
        },
        "id": "SaJMDp6nfXtc",
        "outputId": "bbdf2379-36f5-454d-cda1-bcff48256b0b"
      },
      "outputs": [
        {
          "name": "stdout",
          "output_type": "stream",
          "text": [
            "Fitting 5 folds for each of 32 candidates, totalling 160 fits\n"
          ]
        },
        {
          "data": {
            "text/plain": [
              "{'max_depth': 90,\n",
              " 'max_features': 2,\n",
              " 'min_samples_leaf': 4,\n",
              " 'min_samples_split': 10,\n",
              " 'n_estimators': 100}"
            ]
          },
          "execution_count": 111,
          "metadata": {},
          "output_type": "execute_result"
        }
      ],
      "source": [
        "# use GridSearchCV to get best parameters\n",
        "\n",
        "param_grid = {'max_depth': [80, 90],\n",
        "    'max_features': [2, 3],\n",
        "    'min_samples_leaf': [3, 4],\n",
        "    'min_samples_split': [8, 10],\n",
        "    'n_estimators': [100, 200]}\n",
        "# Instantiate the GridSearchCV object: clf_cv\n",
        "grid=GridSearchCV(RandomForestClassifier(),param_grid,verbose=1)\n",
        "# Train the model\n",
        "grid.fit(X_train,y_train)\n",
        "# get best parameters\n",
        "grid.best_params_\n"
      ]
    },
    {
      "cell_type": "markdown",
      "metadata": {
        "id": "ZLH_jJ58QdkZ"
      },
      "source": [
        "**Note it takes 40 min to Run"
      ]
    },
    {
      "cell_type": "code",
      "execution_count": 112,
      "metadata": {
        "colab": {
          "base_uri": "https://localhost:8080/"
        },
        "id": "K3XSQ570gBWA",
        "outputId": "8ee0d411-bc6e-4abc-88dd-b66786acff72"
      },
      "outputs": [
        {
          "data": {
            "text/plain": [
              "0.7107284151733768"
            ]
          },
          "execution_count": 112,
          "metadata": {},
          "output_type": "execute_result"
        }
      ],
      "source": [
        "# Test the model and get its accuracy  \n",
        "grid_pred = grid.predict(X_test)\n",
        "# print(classification_report(y_test,grid_pred))\n",
        "test_accuracy = accuracy_score(y_test, grid_pred)\n",
        "test_accuracy"
      ]
    },
    {
      "cell_type": "markdown",
      "metadata": {
        "id": "aL63HJs5fORM"
      },
      "source": [
        "**Accuracy was 69.03, with best parameters:'max_depth': 90, 'max_features': 2, \n",
        "'min_samples_leaf': 4, 'min_samples_split': 10, 'n_estimators': 100 -> Accuracy = 71.07%**\n",
        "\n",
        "---\n",
        "\n"
      ]
    },
    {
      "cell_type": "markdown",
      "metadata": {
        "id": "jWXMMIi-M8Aq"
      },
      "source": [
        "## Conclusion \n"
      ]
    },
    {
      "cell_type": "markdown",
      "metadata": {
        "id": "Li_WtsRRPyPl"
      },
      "source": [
        "### Accuracies:\n",
        "Logistic Regression ........ 71.43%         \n",
        "Decision Tree ................... 72.45%   \n",
        "Random Forest ................ 71.07%     \n",
        "Support Vector Machines  71.29%     \n",
        "K-nearest Neighbors ....... 71.28%     \n",
        "Naive Bayes ..................... 69.47%\n",
        "\n",
        "### Decision Tree is the highest accuarcy 72.45%\n",
        "\n",
        "---\n",
        "\n"
      ]
    }
  ],
  "metadata": {
    "colab": {
      "collapsed_sections": [
        "QEF1pLxnxeBG",
        "OJH_GyQDZTDh",
        "K7wG_M2awCqq",
        "zxTPeHARtgtb",
        "bKqUSAFY6454",
        "yKnk2RHYhbEd",
        "go4imaaPqleH",
        "UwIZbu4O9_UL",
        "3VKhitnkX5-G",
        "YEQrqINRWM8t",
        "1gm_DX6gLVWg",
        "t6MUBq6C9VnY",
        "InBBuxtOgTgo",
        "iYJRL3iRgXFq",
        "3AvIWIz6gZ70",
        "jWXMMIi-M8Aq"
      ],
      "name": "MLProject.ipynb",
      "provenance": []
    },
    "kernelspec": {
      "display_name": "Python 3",
      "name": "python3"
    },
    "language_info": {
      "codemirror_mode": {
        "name": "ipython",
        "version": 3
      },
      "file_extension": ".py",
      "mimetype": "text/x-python",
      "name": "python",
      "nbconvert_exporter": "python",
      "pygments_lexer": "ipython3",
      "version": "3.8.8"
    }
  },
  "nbformat": 4,
  "nbformat_minor": 0
}
